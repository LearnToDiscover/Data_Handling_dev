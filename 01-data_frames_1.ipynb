{
 "cells": [
  {
   "cell_type": "raw",
   "id": "e60f1e0a",
   "metadata": {
    "lines_to_next_cell": 0
   },
   "source": [
    "---\n",
    "title: \"Data Frames - Part 1\"\n",
    "teaching: 60\n",
    "exercises: 60\n",
    "---"
   ]
  },
  {
   "cell_type": "markdown",
   "id": "c9705adc",
   "metadata": {},
   "source": [
    "[**Download Chapter pdf**](01-data_frames_1.md.pdf)\n",
    "\n",
    "[**Download Chapter notebook (ipynb)**](01-data_frames_1.ipynb)\n",
    "\n",
    "[<span style=\"color: rgb(255, 0, 0);\">**Mandatory Lesson Feedback Survey**</span>](https://docs.google.com/forms/d/e/1FAIpQLSdr0capF7jloJhPH3Pki1B3LZoKOG16poOpuVJ7SL2LkwLHQA/viewform?pli=1)\n"
   ]
  },
  {
   "cell_type": "markdown",
   "id": "b4336bf6",
   "metadata": {},
   "source": [
    "- How is data read into a dataframe?\n",
    "- What are different ways to manipulate data in dataframes?\n",
    "- What makes data visualisation simple in Python?"
   ]
  },
  {
   "cell_type": "markdown",
   "id": "37053913",
   "metadata": {},
   "source": [
    "- Import data set as Pandas dataframe\n",
    "- Inspect data frame and access data\n",
    "- Produce an overview of data features\n",
    "- Create data plots using Matplotlib\n",
    "\n",
    "<br>\n",
    "<p align = \"center\">\n",
    "<iframe width=\"560\" height=\"315\" src=\"https://www.youtube.com/embed/jdWOAzK81VE\" title=\"YouTube video player\" frameborder=\"0\" allow=\"accelerometer; autoplay; clipboard-write; encrypted-media; gyroscope; picture-in-picture\" allowfullscreen></iframe>\n",
    "</p>\n",
    "<br>\n",
    "\n",
    "<p align = \"center\">\n",
    "<iframe width=\"560\" height=\"315\" src=\"https://www.youtube.com/embed/zw6t3yHEqGU\" title=\"YouTube video player\" frameborder=\"0\" allow=\"accelerometer; autoplay; clipboard-write; encrypted-media; gyroscope; picture-in-picture\" allowfullscreen></iframe>\n",
    "</p>\n",
    "<br>\n",
    "\n",
    "<p align = \"center\">\n",
    "<iframe width=\"560\" height=\"315\" src=\"https://www.youtube.com/embed/mljXcIzx4ps\" title=\"YouTube video player\" frameborder=\"0\" allow=\"accelerometer; autoplay; clipboard-write; encrypted-media; gyroscope; picture-in-picture\" allowfullscreen></iframe>\n",
    "</p>\n",
    "<br>"
   ]
  },
  {
   "cell_type": "markdown",
   "id": "48dc285b",
   "metadata": {},
   "source": [
    "## Prerequisites\n",
    "\n",
    "- Indexing of Arrays\n",
    "- For Loop through Array\n",
    "- Basic Statistics (distributions, mean, median, standard deviation)\n"
   ]
  },
  {
   "cell_type": "markdown",
   "id": "b1064515",
   "metadata": {},
   "source": [
    "The diabetes data set is one of the challenging task.\n"
   ]
  },
  {
   "cell_type": "markdown",
   "id": "9f8d1185",
   "metadata": {},
   "source": [
    "## Challenge: The diabetes data set\n",
    "<p style='text-align: justify;'>\n",
    "Here is a screenshot of the so-called diabetes data set. It is taken from \n",
    "[this webpage](https://www4.stat.ncsu.edu/~boos/var.select/diabetes.tab.txt) and it is one of the [example data sets](https://scikit-learn.org/stable/modules/generated/sklearn.datasets.load_diabetes.html) used to illustrate machine learning functionality in scikit-learn (Part III and Part IV of the course). \n",
    "</p>\n",
    "\n",
    "![](fig/diabetes_data_screenshot.png \"Screenshot of Diabetes Data\")\n",
    "\n",
    "<p style='text-align: justify;'>\n",
    "This figure captures only the top part of the data. On the webpage you need to scroll down considerably to view the whole content. Thus, to get an __overview__ of the dataset is the first main task in Data Science. \n",
    "</p>"
   ]
  },
  {
   "cell_type": "markdown",
   "id": "c5efae17",
   "metadata": {},
   "source": [
    "## The lesson\n",
    "\n",
    "- introduces code to read and inspect the data\n",
    "- works with a specific data frame and extracts some techniques to get an overview\n",
    "- discusses the concept 'distribution' as a way of summarising data in a single figure\n",
    "\n"
   ]
  },
  {
   "cell_type": "markdown",
   "id": "1a05938b",
   "metadata": {},
   "source": [
    "### To get to know a dataset you need to\n",
    "\n",
    "- access the data\n",
    "- check the content\n",
    "- produce a summary of basic properties"
   ]
  },
  {
   "cell_type": "markdown",
   "id": "cf0d2003",
   "metadata": {},
   "source": [
    "<p style='text-align: justify;'>\n",
    "In this lesson we will only look at univariate features where each data column is studied independently of the others. Further properties and bivariate features will be the topic of the next lesson. \n",
    "</p>"
   ]
  },
  {
   "cell_type": "markdown",
   "id": "08f62ba8",
   "metadata": {},
   "source": [
    "## Work Through Example"
   ]
  },
  {
   "cell_type": "markdown",
   "id": "de7f9d32",
   "metadata": {},
   "source": [
    "## Reading data into a Pandas DataFrame\n",
    "\n",
    "<p style='text-align: justify;'>\n",
    "The small practice data file for this section is called 'everleys_data.csv' and can be downloaded using the link given above in \"Materials for this Lesson\". To start, please create a subfolder called 'data' in the current directory and put the data file in it. It can now be accessed using the relative path `data/everleys_data.csv` or `data\\everleys_data.csv`, respectively.\n",
    "</p>\n",
    "\n",
    "<p style='text-align: justify;'>\n",
    "The file `everleys_data.csv` contains blood concentrations of calcium and sodium ions from 17 patients with Everley's syndrome. The data are taken from a [BMJ statistics tutorial](https://www.bmj.com/about-bmj/resources-readers/publications/statistics-square-one/7-t-tests). The data are stored as comma-separated values (csv), two values for each patient.\n",
    "</p>\n",
    "<p style='text-align: justify;'>\n",
    "To get to know a dataset, we will use the Pandas package and the Matplotlib plotting library. The Pandas package for data science is included in the Anaconda distribution of Python. Check this [link for installation instructions](https://pandas.pydata.org/getting_started.html) to get started. \n",
    "</p>\n",
    "\n",
    "If you are not using the Anaconda distribution, please refer to [these guidelines](https://pandas.pydata.org/docs/getting_started/install.html). \n",
    "\n",
    "<p style='text-align: justify;'>\n",
    "To use the functions contained in Pandas they need to be imported. Our dataset is in '.csv' format, and we therefore need to read it from a csv file. For this, we import the function `read_csv`. This function will create a _Pandas dataframe_.\n",
    "</p>\n",
    "\n",
    "\n",
    "\n",
    "\n"
   ]
  },
  {
   "cell_type": "code",
   "execution_count": null,
   "id": "d18fd3ee",
   "metadata": {},
   "outputs": [],
   "source": [
    "from pandas import read_csv"
   ]
  },
  {
   "cell_type": "markdown",
   "id": "69223128",
   "metadata": {},
   "source": [
    "<p style='text-align: justify;'>\n",
    "Executing this code does not lead to any output on the screen. However, the function is now ready to be used. To use it, we type its name and provide the required arguments. The following code should import the Everley's data into your JupyterLab notebook (or other Python environment):\n",
    "</p>\n",
    "\n"
   ]
  },
  {
   "cell_type": "code",
   "execution_count": null,
   "id": "e66e408e",
   "metadata": {
    "lines_to_next_cell": 0
   },
   "outputs": [],
   "source": [
    "# for Mac OSX and Linux\n",
    "# (please go to the next cell if using Windows)\n",
    "\n",
    "df = read_csv(\"data/everleys_data.csv\") "
   ]
  },
  {
   "cell_type": "markdown",
   "id": "b751d50b",
   "metadata": {},
   "source": [
    "\n"
   ]
  },
  {
   "cell_type": "code",
   "execution_count": null,
   "id": "360bdff0",
   "metadata": {},
   "outputs": [],
   "source": [
    "# Please uncomment for Windows\n",
    "# (please go to previous cell if using Mac OSX or Linux)\n",
    "\n",
    "# df = read_csv(\"data\\everleys_data.csv\") "
   ]
  },
  {
   "cell_type": "markdown",
   "id": "964c854a",
   "metadata": {},
   "source": [
    "<p style='text-align: justify;'>\n",
    "This code uses the `read_csv` function from Pandas to read data from a data file, in this case a file with extension '.csv'. Note that the location of the data file is specified within quotes by the relative path to the subfolder 'data' followed by the file name. Use the JupyterLab file browser to check that subfolder exists and has the file in it.\n",
    "</p>\n",
    "\n",
    "![](fig/subfolder_data.png \"Screenshot of subfolder 'data' \")\n",
    "\n",
    "After execution of the code, the data are contained in a variable called `df`. This is a structure referred to as a Pandas _DataFrame_. \n",
    "\n",
    "> A [__Pandas dataframe__](https://pandas.pydata.org/pandas-docs/stable/user_guide/dsintro.html#dataframe) is a 2-dimensional labeled data structure with columns of potentially different types. You can think of it as a spreadsheet. "
   ]
  },
  {
   "cell_type": "markdown",
   "id": "0401ea92",
   "metadata": {},
   "source": [
    "To see the contents of `df`, simply use:\n",
    "\n"
   ]
  },
  {
   "cell_type": "code",
   "execution_count": null,
   "id": "d7f549eb",
   "metadata": {},
   "outputs": [],
   "source": [
    "df"
   ]
  },
  {
   "cell_type": "markdown",
   "id": "ddc142fb",
   "metadata": {},
   "source": [
    "```{.output}\n",
    "     calcium      sodium\n",
    "0   3.455582  112.690980\n",
    "1   3.669026  125.663330\n",
    "2   2.789910  105.821810\n",
    "3   2.939900   98.172772\n",
    "4   5.426060   97.931489\n",
    "5   0.715811  120.858330\n",
    "6   5.652390  112.871500\n",
    "7   3.571320  112.647360\n",
    "8   4.300067  132.031720\n",
    "9   1.369419  118.499010\n",
    "10  2.550962  117.373730\n",
    "11  2.894129  134.052390\n",
    "12  3.664987  105.346410\n",
    "13  1.362779  123.359490\n",
    "14  3.718798  125.021060\n",
    "15  1.865868  112.075420\n",
    "16  3.272809  117.588040\n",
    "17  3.917591  101.009870\n",
    "```\n",
    "\n",
    "(Compare with the result of `print(df)` which displays the contents in a different format.) \n",
    "\n",
    "<p style='text-align: justify;'>\n",
    "The output shows in the first column an index, integers from 0 to 17; and the calcium and sodium concentrations in columns 2 and 3, respectively. The default indexing starts from zero (Python is a 'zero-based' programming language).\n",
    "</p>\n",
    "\n",
    "<p style='text-align: justify;'>\n",
    "In a dataframe, the first column is referred to as _Indices_, the first row is referred to as _Labels_. Note that the row with the labels is excluded from the row count. Similarly, the row with the indices is excluded from the column count. \n",
    "</p>\n",
    "\n",
    "For large data sets, the function `head` is a convenient way to get a feel of the dataset.\n",
    "\n"
   ]
  },
  {
   "cell_type": "code",
   "execution_count": null,
   "id": "035bc475",
   "metadata": {},
   "outputs": [],
   "source": [
    "df.head()"
   ]
  },
  {
   "cell_type": "markdown",
   "id": "c77a1252",
   "metadata": {},
   "source": [
    "```{.output}\n",
    "    calcium      sodium\n",
    "0  3.455582  112.690980\n",
    "1  3.669026  125.663330\n",
    "2  2.789910  105.821810\n",
    "3  2.939900   98.172772\n",
    "4  5.426060   97.931489\n",
    "```\n",
    "\n",
    "<p style='text-align: justify;'>\n",
    "Without any input argument, this displays the first five data lines of the dataframe. You can specify alter the number of rows displayed by including a single integer as argument, e.g. `head(10)`.\n",
    "</p>\n",
    "\n",
    "<p style='text-align: justify;'>\n",
    "If you feel there are too many decimal places in the default view, you can restrict their number by using the `round` function:\n",
    "</p>\n",
    "\n"
   ]
  },
  {
   "cell_type": "code",
   "execution_count": null,
   "id": "6f761aaf",
   "metadata": {},
   "outputs": [],
   "source": [
    "df.head().round(2)"
   ]
  },
  {
   "cell_type": "markdown",
   "id": "82a0a673",
   "metadata": {},
   "source": [
    "```{.output}\n",
    "   calcium  sodium\n",
    "0     3.46  112.69\n",
    "1     3.67  125.66\n",
    "2     2.79  105.82\n",
    "3     2.94   98.17\n",
    "4     5.43   97.93\n",
    "```\n",
    "\n",
    "<p style='text-align: justify;'>\n",
    "While we can see how many rows there are in a dataframe when we display the whole data frame and look at the last index, there is a convenient way to obtain the number directly:\n",
    "</p>\n"
   ]
  },
  {
   "cell_type": "code",
   "execution_count": null,
   "id": "d06236f6",
   "metadata": {},
   "outputs": [],
   "source": [
    "no_rows = len(df)\n",
    "\n",
    "print('Data frame has', no_rows, 'rows')"
   ]
  },
  {
   "cell_type": "markdown",
   "id": "cb2021f2",
   "metadata": {},
   "source": [
    "```{.output}\n",
    "Data frame has 18 rows\n",
    "```\n",
    "\n",
    "You could see above, that the columns of the dataframe have labels. To see all labels:\n",
    "\n"
   ]
  },
  {
   "cell_type": "code",
   "execution_count": null,
   "id": "84f794c4",
   "metadata": {},
   "outputs": [],
   "source": [
    "column_labels = df.columns\n",
    "\n",
    "print(column_labels)"
   ]
  },
  {
   "cell_type": "markdown",
   "id": "311cf86d",
   "metadata": {},
   "source": [
    "```{.output}\n",
    "Index(['calcium', 'sodium'], dtype='object')\n",
    "```\n",
    "\n",
    "Now we can count the labels to obtain the number of columns:\n",
    "\n"
   ]
  },
  {
   "cell_type": "code",
   "execution_count": null,
   "id": "fbaf15ff",
   "metadata": {},
   "outputs": [],
   "source": [
    "no_columns = len(column_labels)\n",
    "\n",
    "print('Data frame has', no_columns, 'columns')"
   ]
  },
  {
   "cell_type": "markdown",
   "id": "cd841a19",
   "metadata": {},
   "source": [
    "```{.output}\n",
    "Data frame has 2 columns\n",
    "```\n",
    "\n",
    "<p style='text-align: justify;'>\n",
    "And if you want to have both the number of the rows and the columns together, use `shape`. Shape returns a tuple of two numbers, first the number of rows, then the number of columns.\n",
    "</p>\n"
   ]
  },
  {
   "cell_type": "code",
   "execution_count": null,
   "id": "1a46d824",
   "metadata": {},
   "outputs": [],
   "source": [
    "df_shape = df.shape\n",
    "\n",
    "print('Data frame has', df_shape[0], 'rows and',df_shape[1],  'columns')"
   ]
  },
  {
   "cell_type": "markdown",
   "id": "3a74abf2",
   "metadata": {},
   "source": [
    "```{.output}\n",
    "Data frame has 18 rows and 2 columns\n",
    "```"
   ]
  },
  {
   "cell_type": "markdown",
   "id": "6de4a2d4",
   "metadata": {},
   "source": [
    "Notice that `shape` (like `columns`) is not followed by round parenthesis. It is not a function that can take arguments. Technically, `shape` is a 'property' of the dataframe."
   ]
  },
  {
   "cell_type": "markdown",
   "id": "c25fa5cf",
   "metadata": {},
   "source": [
    "To find out what data type is contained in each of the columns, us `dtypes`, another 'property':\n",
    "\n"
   ]
  },
  {
   "cell_type": "code",
   "execution_count": null,
   "id": "72466840",
   "metadata": {},
   "outputs": [],
   "source": [
    "df.dtypes"
   ]
  },
  {
   "cell_type": "markdown",
   "id": "8f87df9a",
   "metadata": {},
   "source": [
    "```{.output}\n",
    "calcium    float64\n",
    "sodium     float64\n",
    "dtype: object\n",
    "```"
   ]
  },
  {
   "cell_type": "markdown",
   "id": "b09f0bc3",
   "metadata": {},
   "source": [
    "In this case, both columns contain floating point (decimal) numbers."
   ]
  },
  {
   "cell_type": "markdown",
   "id": "e94121e6",
   "metadata": {},
   "source": [
    "## DIY1: Read data into a dataframe\n",
    "\n",
    "<p style='text-align: justify;'>   \n",
    "Download the data file 'loan_data.csv' using the link given above in \"Materials for this Lesson\". It contains data that can be used for the assessment of loan applications. Read the data into a DataFrame. It is best to assign it a name other than 'df' (to avoid overwriting the Evereley data set). \n",
    "</p>\n",
    "\n",
    "<p style='text-align: justify;'>\n",
    "Display the first ten rows of the Loan data set to see its contents. It is taken from a [tutorial on Data Handling in Python](https://www.analyticsvidhya.com/blog/2016/01/complete-tutorial-learn-data-science-python-scratch-2/) which you might find useful for further practice. \n",
    "</p>\n",
    "\n",
    "> From this exercise we can see that a dataframe can contain different types of data: real numbers (e.g. LoanAmount), integers (ApplicantIncome), categorical data (Gender), and strings (Loan_ID). \n",
    "\n"
   ]
  },
  {
   "cell_type": "code",
   "execution_count": null,
   "id": "1aa017e6",
   "metadata": {},
   "outputs": [],
   "source": [
    "from pandas import read_csv\n",
    "# dataframe from .csv file\n",
    "df_loan = read_csv(\"data/loan_data.csv\") \n",
    "# display contents\n",
    "df_loan.head(10)"
   ]
  },
  {
   "cell_type": "markdown",
   "id": "8eeb9744",
   "metadata": {},
   "source": [
    "```{.output}\n",
    "    Loan_ID  Gender Married  ... Loan_Amount_Term Credit_History Property_Area\n",
    "0  LP001015    Male     Yes  ...            360.0            1.0         Urban\n",
    "1  LP001022    Male     Yes  ...            360.0            1.0         Urban\n",
    "2  LP001031    Male     Yes  ...            360.0            1.0         Urban\n",
    "3  LP001035    Male     Yes  ...            360.0            NaN         Urban\n",
    "4  LP001051    Male      No  ...            360.0            1.0         Urban\n",
    "5  LP001054    Male     Yes  ...            360.0            1.0         Urban\n",
    "6  LP001055  Female      No  ...            360.0            1.0     Semiurban\n",
    "7  LP001056    Male     Yes  ...            360.0            0.0         Rural\n",
    "8  LP001059    Male     Yes  ...            240.0            1.0         Urban\n",
    "9  LP001067    Male      No  ...            360.0            1.0     Semiurban\n",
    "\n",
    "[10 rows x 12 columns]\n",
    "```"
   ]
  },
  {
   "cell_type": "markdown",
   "id": "6949080a",
   "metadata": {},
   "source": [
    "## Accessing data in a DataFrame\n",
    "\n",
    "<p style='text-align: justify;'>\n",
    "If a datafile is large and you only want to check the format of data in a specific column, you can limit the display to that column.\n",
    "To access data contained in a specific column of a dataframe, we can use a similar convention as in a Python dictionary, treating the column names as 'keys'. E.g. to show all rows in column 'Calcium', use:\n",
    "</p>\n"
   ]
  },
  {
   "cell_type": "code",
   "execution_count": null,
   "id": "58d71e02",
   "metadata": {},
   "outputs": [],
   "source": [
    "df['calcium']"
   ]
  },
  {
   "cell_type": "markdown",
   "id": "e4edb3cd",
   "metadata": {},
   "source": [
    "```{.output}\n",
    "0     3.455582\n",
    "1     3.669026\n",
    "2     2.789910\n",
    "3     2.939900\n",
    "4     5.426060\n",
    "5     0.715811\n",
    "6     5.652390\n",
    "7     3.571320\n",
    "8     4.300067\n",
    "9     1.369419\n",
    "10    2.550962\n",
    "11    2.894129\n",
    "12    3.664987\n",
    "13    1.362779\n",
    "14    3.718798\n",
    "15    1.865868\n",
    "16    3.272809\n",
    "17    3.917591\n",
    "Name: calcium, dtype: float64\n",
    "```\n",
    "\n",
    "To access individual rows of a column we use two pairs of square brackets:\n"
   ]
  },
  {
   "cell_type": "code",
   "execution_count": null,
   "id": "e0d0e1e1",
   "metadata": {},
   "outputs": [],
   "source": [
    "df['calcium'][0:3]"
   ]
  },
  {
   "cell_type": "markdown",
   "id": "38511da8",
   "metadata": {},
   "source": [
    "```{.output}\n",
    "0    3.455582\n",
    "1    3.669026\n",
    "2    2.789910\n",
    "Name: calcium, dtype: float64\n",
    "```\n",
    "\n",
    "<p style='text-align: justify;'>\n",
    "Here all rules for [slicing](https://docs.python.org/3/tutorial/introduction.html) can be applied.\n",
    "As for lists and tuples, the indexing of rows is semi-inclusive, lower boundary included, upper boundary excluded.\n",
    "Note that the first pair of square brackets refers to a column and the second pair refers to the rows. This is different from e.g. accessing items in a nested list.\n",
    "</p>\n",
    "\n",
    "Accessing items in a Pandas dataframe is analogous to accessing the values in a Python dictionary by referring to its keys."
   ]
  },
  {
   "cell_type": "markdown",
   "id": "a72e682c",
   "metadata": {},
   "source": [
    "To access non-contiguous elements, we use an additional pair of square brackets (as if for a list within a list):\n",
    "\n"
   ]
  },
  {
   "cell_type": "code",
   "execution_count": null,
   "id": "345093b4",
   "metadata": {},
   "outputs": [],
   "source": [
    "df['calcium'][[1, 3, 7]]"
   ]
  },
  {
   "cell_type": "markdown",
   "id": "5a5e74b8",
   "metadata": {},
   "source": [
    "```{.output}\n",
    "1    3.669026\n",
    "3    2.939900\n",
    "7    3.571320\n",
    "Name: calcium, dtype: float64\n",
    "```\n",
    "\n",
    "<p style='text-align: justify;'>\n",
    "Another possibility to index and slice a dataframe is the use of the 'index location' or `iloc` property. It refers first to rows and then to columns by index, all within a single pair of brackets. For example, to get all rows of the first column (index `0`), you use:\n",
    "</p>\n"
   ]
  },
  {
   "cell_type": "code",
   "execution_count": null,
   "id": "ba639b0c",
   "metadata": {},
   "outputs": [],
   "source": [
    "df.iloc[:, 0]"
   ]
  },
  {
   "cell_type": "markdown",
   "id": "f5d28412",
   "metadata": {},
   "source": [
    "```{.output}\n",
    "0     3.455582\n",
    "1     3.669026\n",
    "2     2.789910\n",
    "3     2.939900\n",
    "4     5.426060\n",
    "5     0.715811\n",
    "6     5.652390\n",
    "7     3.571320\n",
    "8     4.300067\n",
    "9     1.369419\n",
    "10    2.550962\n",
    "11    2.894129\n",
    "12    3.664987\n",
    "13    1.362779\n",
    "14    3.718798\n",
    "15    1.865868\n",
    "16    3.272809\n",
    "17    3.917591\n",
    "Name: calcium, dtype: float64\n",
    "```\n",
    "\n",
    "To display only the first three calcium concentrations, you use slicing, remembering that the upper bound is excluded):\n"
   ]
  },
  {
   "cell_type": "code",
   "execution_count": null,
   "id": "e29c7efc",
   "metadata": {},
   "outputs": [],
   "source": [
    "df.iloc[0:3, 0]"
   ]
  },
  {
   "cell_type": "markdown",
   "id": "30ed72d8",
   "metadata": {},
   "source": [
    "```{.output}\n",
    "0    3.455582\n",
    "1    3.669026\n",
    "2    2.789910\n",
    "Name: calcium, dtype: float64\n",
    "```\n",
    "\n",
    "To access non-consecutive values, we can use a pair of square brackets within the pair of square brackets: \n"
   ]
  },
  {
   "cell_type": "code",
   "execution_count": null,
   "id": "c0d35ca2",
   "metadata": {},
   "outputs": [],
   "source": [
    "df.iloc[[2, 4, 7], 0]"
   ]
  },
  {
   "cell_type": "markdown",
   "id": "f155b53f",
   "metadata": {},
   "source": [
    "```{.output}\n",
    "2    2.78991\n",
    "4    5.42606\n",
    "7    3.57132\n",
    "Name: calcium, dtype: float64\n",
    "```\n",
    "\n",
    "Similarly, we can access the values from multiple columns:\n"
   ]
  },
  {
   "cell_type": "code",
   "execution_count": null,
   "id": "01224873",
   "metadata": {},
   "outputs": [],
   "source": [
    "df.iloc[[2, 4, 7], :]"
   ]
  },
  {
   "cell_type": "markdown",
   "id": "5573a576",
   "metadata": {},
   "source": [
    "```{.output}\n",
    "   calcium      sodium\n",
    "2  2.78991  105.821810\n",
    "4  5.42606   97.931489\n",
    "7  3.57132  112.647360\n",
    "```\n",
    "\n",
    "To pick only the even rows from the two columns, check this colon notation:\n"
   ]
  },
  {
   "cell_type": "code",
   "execution_count": null,
   "id": "c07d70a4",
   "metadata": {},
   "outputs": [],
   "source": [
    "df.iloc[:18:2, :]"
   ]
  },
  {
   "cell_type": "markdown",
   "id": "ebde2e0e",
   "metadata": {},
   "source": [
    "```{.output}\n",
    "     calcium      sodium\n",
    "0   3.455582  112.690980\n",
    "2   2.789910  105.821810\n",
    "4   5.426060   97.931489\n",
    "6   5.652390  112.871500\n",
    "8   4.300067  132.031720\n",
    "10  2.550962  117.373730\n",
    "12  3.664987  105.346410\n",
    "14  3.718798  125.021060\n",
    "16  3.272809  117.588040\n",
    "```\n",
    "\n",
    "The number after the second colon indicates the stepsize."
   ]
  },
  {
   "cell_type": "markdown",
   "id": "3d01080a",
   "metadata": {},
   "source": [
    "## DIY2: Select data from dataframe\n",
    "\n",
    "Display the calcium and sodium concentrations of all patients except the first. Check the model solution at the bottom for options.\n",
    "\n"
   ]
  },
  {
   "cell_type": "code",
   "execution_count": null,
   "id": "07d30cb4",
   "metadata": {},
   "outputs": [],
   "source": [
    "df[['calcium', 'sodium']][1:]"
   ]
  },
  {
   "cell_type": "markdown",
   "id": "829ccdcb",
   "metadata": {},
   "source": [
    "```{.output}\n",
    "     calcium      sodium\n",
    "1   3.669026  125.663330\n",
    "2   2.789910  105.821810\n",
    "3   2.939900   98.172772\n",
    "4   5.426060   97.931489\n",
    "5   0.715811  120.858330\n",
    "6   5.652390  112.871500\n",
    "7   3.571320  112.647360\n",
    "8   4.300067  132.031720\n",
    "9   1.369419  118.499010\n",
    "10  2.550962  117.373730\n",
    "11  2.894129  134.052390\n",
    "12  3.664987  105.346410\n",
    "13  1.362779  123.359490\n",
    "14  3.718798  125.021060\n",
    "15  1.865868  112.075420\n",
    "16  3.272809  117.588040\n",
    "17  3.917591  101.009870\n",
    "```\n"
   ]
  },
  {
   "cell_type": "markdown",
   "id": "a29e2085",
   "metadata": {},
   "source": [
    "Mixing the ways to access specific data in a dataframe can be confusing and needs practice.\n",
    "\n",
    "### **Search for missing values**\n",
    "\n",
    "Some tables contain missing entries. You can check a dataframe for such missing entries. If no missing entry is found, the function `isnull` will return `False`.\n",
    "\n"
   ]
  },
  {
   "cell_type": "code",
   "execution_count": null,
   "id": "aa257d6b",
   "metadata": {},
   "outputs": [],
   "source": [
    "df.isnull().any()"
   ]
  },
  {
   "cell_type": "markdown",
   "id": "48030a70",
   "metadata": {},
   "source": [
    "```{.output}\n",
    "calcium    False\n",
    "sodium     False\n",
    "dtype: bool\n",
    "```\n",
    "\n",
    "This shows that there are no missing entries in our dataframe.\n",
    "\n",
    "## DIY3: Find NaN in dataframe\n",
    "\n",
    "In the Loan data set, check the entry 'Self-employed' for ID LP001059. It shows how a missing value is represented as 'NaN' (not a number).\n",
    "\n",
    " Verify that the output of `isnull` in this case is `True`\n",
    " \n"
   ]
  },
  {
   "cell_type": "code",
   "execution_count": null,
   "id": "5bb49689",
   "metadata": {},
   "outputs": [],
   "source": [
    "df_loan['Self_Employed'][8]"
   ]
  },
  {
   "cell_type": "markdown",
   "id": "c1481876",
   "metadata": {},
   "source": [
    "```{.output}\n",
    "nan\n",
    "```\n",
    "\n"
   ]
  },
  {
   "cell_type": "code",
   "execution_count": null,
   "id": "b402e7f2",
   "metadata": {},
   "outputs": [],
   "source": [
    "df_loan['Self_Employed'][8:9].isnull()"
   ]
  },
  {
   "cell_type": "markdown",
   "id": "a78872b8",
   "metadata": {},
   "source": [
    "```{.output}\n",
    "8    True\n",
    "Name: Self_Employed, dtype: bool\n",
    "```\n",
    "\n"
   ]
  },
  {
   "cell_type": "markdown",
   "id": "7cc6eeea",
   "metadata": {},
   "source": [
    "## Basic data features\n",
    "\n",
    "### **Summary Statistics**\n",
    "\n",
    "To get a summary of basic data features use the function `describe`:\n",
    "\n"
   ]
  },
  {
   "cell_type": "code",
   "execution_count": null,
   "id": "01fb4a9e",
   "metadata": {},
   "outputs": [],
   "source": [
    "description = df.describe()\n",
    "\n",
    "description"
   ]
  },
  {
   "cell_type": "markdown",
   "id": "87572239",
   "metadata": {},
   "source": [
    "```{.output}\n",
    "         calcium      sodium\n",
    "count  18.000000   18.000000\n",
    "mean    3.174301  115.167484\n",
    "std     1.306652   10.756852\n",
    "min     0.715811   97.931489\n",
    "25%     2.610699  107.385212\n",
    "50%     3.364195  115.122615\n",
    "75%     3.706355  122.734200\n",
    "max     5.652390  134.052390\n",
    "```\n",
    "\n",
    "<p style='text-align: justify;'>\n",
    "The `describe` function produces a new dataframe (here called 'description') that contains the number of samples, the mean, the standard deviation, minimum, 25th, 50th, 75th  percentile, and the maximum value for each column of the data. Note that the indices of the rows have now been replaced by strings. To access rows, it is possible to refer to those names using the `loc` property. E.g. to access the mean of the calcium concentrations from the description, each of the following is valid:\n",
    "</p>\n",
    "\n"
   ]
  },
  {
   "cell_type": "code",
   "execution_count": null,
   "id": "e629b6a0",
   "metadata": {},
   "outputs": [],
   "source": [
    "# Option 1\n",
    "description.loc['mean']['calcium'] \n",
    "\n",
    "# Option 2\n",
    "description.loc['mean'][0] \n",
    "\n",
    "# Option 3\n",
    "description['calcium']['mean'] \n",
    "\n",
    "# Option 4\n",
    "description['calcium'][1] "
   ]
  },
  {
   "cell_type": "markdown",
   "id": "05877ae9",
   "metadata": {},
   "source": [
    "```{.output}\n",
    "3.1743005405555555\n",
    "3.1743005405555555\n",
    "3.1743005405555555\n",
    "3.1743005405555555\n",
    "```\n",
    "\n",
    "## DIY4: Practice\n",
    "\n",
    "<p style='text-align: justify;'>\n",
    "Use your own .csv data set to practice. (If you don't have a data set at hand, any excel table can be exported as .csv.) Read it into a dataframe, check its header, access individual values or sets of values. Create a statistics using `describe` and check for missing values using `.isnull`.\n",
    "</p>\n",
    "\n",
    " [ad libitum]"
   ]
  },
  {
   "cell_type": "markdown",
   "id": "92334d87",
   "metadata": {},
   "source": [
    "### **Iterating through the columns**\n",
    "\n",
    "Now we know how to access all data in a dataframe and how to get a summary statistics over each column. \n",
    "\n",
    "Here is code to iterate through the columns and access the first two concentrations: \n",
    "\n"
   ]
  },
  {
   "cell_type": "code",
   "execution_count": null,
   "id": "62386d40",
   "metadata": {},
   "outputs": [],
   "source": [
    "for col in df:\n",
    "    \n",
    "    print(df[col][0:2])"
   ]
  },
  {
   "cell_type": "markdown",
   "id": "a8d29189",
   "metadata": {},
   "source": [
    "```{.output}\n",
    "0    3.455582\n",
    "1    3.669026\n",
    "Name: calcium, dtype: float64\n",
    "0    112.69098\n",
    "1    125.66333\n",
    "Name: sodium, dtype: float64\n",
    "```\n",
    "\n",
    "As a slightly more complex example, we access the median ('50%') of each column in the description and add it to a list:\n",
    "\n"
   ]
  },
  {
   "cell_type": "code",
   "execution_count": null,
   "id": "2529f533",
   "metadata": {},
   "outputs": [],
   "source": [
    "conc_medians = list()\n",
    "\n",
    "for col in df:\n",
    "    \n",
    "    conc_medians.append(df[col].describe()['50%'])\n",
    "\n",
    "print('The columns are: ', list(df.columns))\n",
    "print('The medians are: ', conc_medians)"
   ]
  },
  {
   "cell_type": "markdown",
   "id": "7c8af28b",
   "metadata": {},
   "source": [
    "```{.output}\n",
    "The columns are:  ['calcium', 'sodium']\n",
    "The medians are:  [3.3641954, 115.122615]\n",
    "```\n",
    "\n",
    "<p style='text-align: justify;'>\n",
    "This approach is useful for data frames with a large number of columns. For instance, it is possible to then create a boxplot or histogram for the means, medians etc. of the dataframe and thus to get an overview of all (comparable) columns. \n",
    "</p>\n",
    "\n",
    "### **Selecting a subset based on a template**\n",
    "\n",
    "<p style='text-align: justify;'>\n",
    "An analysis of a data set may need to be done on part of the data. This can often be formulated by using a logical condition which specifies the required subset.\n",
    "</p>\n",
    "\n",
    "<p style='text-align: justify;'>\n",
    "For this we will assume that some of the data are labelled '0' and some are labelled '1'. Let us therefore see how to add a new column to our Evereleys data frame which contains the (in this case arbitrary) labels.\n",
    "</p>\n",
    "\n",
    "<p style='text-align: justify;'>\n",
    "First we randomly create as many labels as we have rows in the data frame. We can use the `randint` function which we import from 'numpy.random'. `randint` in its simple form takes two arguments. First the upper bound of the integer needed, where by default it starts from zero. As Python is exclusive on the upper bound, providing '2' will thus yield either '0' or '1' only. \n",
    "</p>\n"
   ]
  },
  {
   "cell_type": "code",
   "execution_count": null,
   "id": "e751492c",
   "metadata": {},
   "outputs": [],
   "source": [
    "from numpy.random import randint\n",
    "\n",
    "no_rows = len(df)\n",
    "\n",
    "randomLabel = randint(2, size=no_rows)\n",
    "\n",
    "print('Number of rows:  ', no_rows)\n",
    "print('Number of Labels:', len(randomLabel))\n",
    "print('Labels:          ', randomLabel)"
   ]
  },
  {
   "cell_type": "markdown",
   "id": "579eaa1a",
   "metadata": {},
   "source": [
    "```{.output}\n",
    "Number of rows:   18\n",
    "Number of Labels: 18\n",
    "Labels:           [0 1 1 1 1 1 0 0 0 1 1 1 1 0 1 1 0 1]\n",
    "```\n",
    "\n",
    "Note how we obtain the number of rows (18) using `len` and do not put it directly into the code. \n",
    "\n",
    "<p style='text-align: justify;'>\n",
    "Now we create a new data column in our `df` dataframe which contains the labels. To create a new column, you can simply refer to a column name that does not yet exist and assign values to it. Let us call it 'gender', assuming that '0' represents male and '1' represents female. \n",
    "</p>\n",
    "\n",
    "As gender specification can include more than two labels, try to create a column with more than two randomly assigned labels e.g. (0, 1, 2).\n"
   ]
  },
  {
   "cell_type": "code",
   "execution_count": null,
   "id": "c49981d2",
   "metadata": {},
   "outputs": [],
   "source": [
    "df['gender'] = randomLabel\n",
    "\n",
    "df.head()"
   ]
  },
  {
   "cell_type": "markdown",
   "id": "ae67175d",
   "metadata": {},
   "source": [
    "```{.output}\n",
    "    calcium      sodium  gender\n",
    "0  3.455582  112.690980       0\n",
    "1  3.669026  125.663330       1\n",
    "2  2.789910  105.821810       1\n",
    "3  2.939900   98.172772       1\n",
    "4  5.426060   97.931489       1\n",
    "```\n",
    "\n",
    "<p style='text-align: justify;'>\n",
    "Now we can use the information contained in 'gender' to filter the data by gender. To achieve this, we use a conditional statement. Let us check which of the rows are labelled as '1':\n",
    "</p>\n"
   ]
  },
  {
   "cell_type": "code",
   "execution_count": null,
   "id": "24733db5",
   "metadata": {},
   "outputs": [],
   "source": [
    "df['gender'] == 1"
   ]
  },
  {
   "cell_type": "markdown",
   "id": "26138747",
   "metadata": {},
   "source": [
    "```{.output}\n",
    "0     False\n",
    "1      True\n",
    "2      True\n",
    "3      True\n",
    "4      True\n",
    "5      True\n",
    "6     False\n",
    "7     False\n",
    "8     False\n",
    "9      True\n",
    "10     True\n",
    "11     True\n",
    "12     True\n",
    "13    False\n",
    "14     True\n",
    "15     True\n",
    "16    False\n",
    "17     True\n",
    "Name: gender, dtype: bool\n",
    "```\n",
    "\n",
    "<p style='text-align: justify;'>\n",
    "If we assign the result of the conditional statement (Boolean True or False) to a variable, then this variable can act as a template to filter the data. If we call the data frame with that variable, we will only get the rows where the condition was found to be True:\n",
    "</p>\n"
   ]
  },
  {
   "cell_type": "code",
   "execution_count": null,
   "id": "35a391a5",
   "metadata": {},
   "outputs": [],
   "source": [
    "df_female = df['gender'] == 1\n",
    "\n",
    "df[df_female]"
   ]
  },
  {
   "cell_type": "markdown",
   "id": "4120cb76",
   "metadata": {},
   "source": [
    "```{.output}\n",
    "     calcium      sodium  gender\n",
    "1   3.669026  125.663330       1\n",
    "2   2.789910  105.821810       1\n",
    "3   2.939900   98.172772       1\n",
    "4   5.426060   97.931489       1\n",
    "5   0.715811  120.858330       1\n",
    "9   1.369419  118.499010       1\n",
    "10  2.550962  117.373730       1\n",
    "11  2.894129  134.052390       1\n",
    "12  3.664987  105.346410       1\n",
    "14  3.718798  125.021060       1\n",
    "15  1.865868  112.075420       1\n",
    "17  3.917591  101.009870       1\n",
    "```\n",
    "\n",
    "Using the Boolean, we only pick the rows that are labelled '1' and thus get a subset of the data according to the label. "
   ]
  },
  {
   "cell_type": "markdown",
   "id": "be14bc4f",
   "metadata": {},
   "source": [
    "## DIY5: Using a template\n",
    " \n",
    "Modify the code to calculate the number of samples labelled 0 and check the number of rows of that subset.\n",
    "\n"
   ]
  },
  {
   "cell_type": "code",
   "execution_count": null,
   "id": "051940e2",
   "metadata": {},
   "outputs": [],
   "source": [
    "from numpy.random import randint\n",
    "no_rows = len(df)\n",
    "randomLabel = randint(2, size=no_rows)\n",
    "df['gender'] = randomLabel\n",
    "df_male = df['gender'] == 0\n",
    "no_males = len(df[df_male])\n",
    "print(no_males, 'samples are labelled \"male\".')"
   ]
  },
  {
   "cell_type": "markdown",
   "id": "ff0befef",
   "metadata": {},
   "source": [
    "```{.output}\n",
    "10 samples are labelled \"male\".\n",
    "```\n",
    "\n",
    "## Visualisation of data\n",
    "<p style='text-align: justify;'>\n",
    "It is easy to see from the numbers that the concentrations of sodium are much higher than that of calcium. However, to also compare the medians, percentiles and the spread of the data it is better to use visualisation. \n",
    "</p>\n",
    "\n",
    "<p style='text-align: justify;'>\n",
    "The simplest way of visualisation is to use Pandas functionality which offers direct ways of plotting. Here is an example where a boxplot is created for each column:\n",
    "</p>\n",
    "\n"
   ]
  },
  {
   "cell_type": "code",
   "execution_count": null,
   "id": "74163e48",
   "metadata": {},
   "outputs": [],
   "source": [
    "df = read_csv(\"data/everleys_data.csv\") \n",
    "df.boxplot()"
   ]
  },
  {
   "cell_type": "markdown",
   "id": "90b3aade",
   "metadata": {},
   "source": [
    "<img src=\"fig/01-data_frames_1-rendered-unnamed-chunk-34-1.png\" width=\"672\" style=\"display: block; margin: auto;\" />\n",
    "\n",
    "<p style='text-align: justify;'>\n",
    "By default, boxplots are shown for all columns if no further argument is given to the function (empty round parenthesis). As the calcium plot is rather squeezed we may wish to see it individually. This can be done by specifying the calcium column as an argument:\n",
    "</p>\n"
   ]
  },
  {
   "cell_type": "code",
   "execution_count": null,
   "id": "893850ca",
   "metadata": {},
   "outputs": [],
   "source": [
    "# Boxplot of calcium results\n",
    "df.boxplot(column='calcium')"
   ]
  },
  {
   "cell_type": "markdown",
   "id": "dced87ed",
   "metadata": {},
   "source": [
    "<img src=\"fig/01-data_frames_1-rendered-unnamed-chunk-35-3.png\" width=\"672\" style=\"display: block; margin: auto;\" />\n",
    "\n",
    "## Plots using Matplotlib\n",
    "\n",
    "> [__Matplotlib__](https://matplotlib.org) is a comprehensive library for creating static, animated, and interactive visualizations in Python.\n",
    "\n",
    "<p style='text-align: justify;'>\n",
    "The above is an easy way to create boxplots directly on the dataframe. It is based on the library Matplotlib and specifically uses the __pyplot library__. For simplicity, the code is put in a convenient Pandas function. \n",
    "</p>\n",
    "\n",
    "<p style='text-align: justify;'>\n",
    "However, we are going to use __Matplotlib__ extensively later on in the course, and we therefore now introduce the direct, generic way of using it.\n",
    "</p>\n",
    "\n",
    "For this, we import the function `subplots` from the [pyplot library](https://matplotlib.org/stable/api/pyplot_summary.html):\n"
   ]
  },
  {
   "cell_type": "code",
   "execution_count": null,
   "id": "1b2d1f16",
   "metadata": {},
   "outputs": [],
   "source": [
    "from matplotlib.pyplot import subplots, show"
   ]
  },
  {
   "cell_type": "markdown",
   "id": "3ff677a6",
   "metadata": {},
   "source": [
    "<p style='text-align: justify;'>\n",
    "The way to use `subplots` is to first set up a figure environment (below it is called 'fig') and an empty coordinate system (below called 'ax'). The plot is then done using one of the many methods available in Matplotlib. We apply it to the coordinate system 'ax'. \n",
    "</p>\n",
    "\n",
    "<p style='text-align: justify;'>\n",
    "As an example, let us create a [boxplot](https://matplotlib.org/api/_as_gen/matplotlib.pyplot.boxplot.html#matplotlib.pyplot.boxplot|) of the calcium variable. As an argument of the function we need to specify the data. We can use the values of the 'calcium' concentrations from the column with that name:\n",
    "</p>\n"
   ]
  },
  {
   "cell_type": "code",
   "execution_count": null,
   "id": "6c3cdeda",
   "metadata": {},
   "outputs": [],
   "source": [
    "fig, ax = subplots()\n",
    "\n",
    "ax.boxplot(df['calcium'])\n",
    "ax.set_title('Boxplot of Everley Calcium')\n",
    "\n",
    "show()"
   ]
  },
  {
   "cell_type": "markdown",
   "id": "601d0b3d",
   "metadata": {},
   "source": [
    "<img src=\"fig/01-data_frames_1-rendered-unnamed-chunk-37-5.png\" width=\"672\" style=\"display: block; margin: auto;\" />\n",
    "\n",
    "Note how following the actual plot we define the title of the plot by referring to the same coordinate system `ax`.\n",
    "\n",
    "The value of `subplots` becomes apparent when we try to create more than one plot in a single figure. \n",
    "\n",
    "<p style='text-align: justify;'>\n",
    "Here is an example to create two boxplots next to each other. The keyword arguments to use is 'ncols' which is the number of figures per row. 'ncols=2' indicates that you want to have two plots next to each other. \n",
    "</p>\n"
   ]
  },
  {
   "cell_type": "code",
   "execution_count": null,
   "id": "c4bd7c64",
   "metadata": {},
   "outputs": [],
   "source": [
    "fig, ax = subplots(ncols=2)\n",
    "\n",
    "ax[0].boxplot(df['calcium'])\n",
    "ax[0].set_title('Calcium')\n",
    "\n",
    "ax[1].boxplot(df['sodium'])\n",
    "ax[1].set_title('Sodium');\n",
    "\n",
    "show()"
   ]
  },
  {
   "cell_type": "markdown",
   "id": "6baa6b5d",
   "metadata": {},
   "source": [
    "<img src=\"fig/01-data_frames_1-rendered-unnamed-chunk-38-7.png\" width=\"672\" style=\"display: block; margin: auto;\" />\n",
    "\n",
    "Note that you now have to refer to each of the subplots by indexing the coordinate system 'ax'. This figure gives a good overview of the Everley's data."
   ]
  },
  {
   "cell_type": "markdown",
   "id": "00094e06",
   "metadata": {},
   "source": [
    "If you prefer to have the boxplots of both columns in a single figure, that can also be done:\n",
    "\n"
   ]
  },
  {
   "cell_type": "code",
   "execution_count": null,
   "id": "3713195c",
   "metadata": {},
   "outputs": [],
   "source": [
    "fig, ax = subplots(ncols=1, nrows=1)\n",
    "\n",
    "ax.boxplot([df['calcium'], df['sodium']], positions=[1, 2])\n",
    "ax.set_title('Boxplot of Calcium (left) and Sodium (right)')\n",
    "\n",
    "show()"
   ]
  },
  {
   "cell_type": "markdown",
   "id": "a79d25c8",
   "metadata": {},
   "source": [
    "<img src=\"fig/01-data_frames_1-rendered-unnamed-chunk-39-9.png\" width=\"672\" style=\"display: block; margin: auto;\" />"
   ]
  },
  {
   "cell_type": "markdown",
   "id": "ce5e77fb",
   "metadata": {},
   "source": [
    "### DIY6: Boxplot from Loan data\n",
    "\n",
    "Plot the boxplots of the 'ApplicantIncome' and the 'CoapplicantIncome' in the Loan data using the above code.\n",
    "\n"
   ]
  },
  {
   "cell_type": "code",
   "execution_count": null,
   "id": "c73cc5d4",
   "metadata": {},
   "outputs": [],
   "source": [
    "fig, ax = subplots(ncols=1, nrows=1)\n",
    "ax.boxplot([df_loan['ApplicantIncome'], df_loan['CoapplicantIncome']], positions=[1, 2])\n",
    "ax.set_title('Applicant Income (left) & Co-Applicant Income (right)');\n",
    "\n",
    "show()"
   ]
  },
  {
   "cell_type": "markdown",
   "id": "9f72cf0d",
   "metadata": {},
   "source": [
    "<img src=\"fig/01-data_frames_1-rendered-unnamed-chunk-40-11.png\" width=\"672\" style=\"display: block; margin: auto;\" />"
   ]
  },
  {
   "cell_type": "markdown",
   "id": "7c2676ca",
   "metadata": {},
   "source": [
    "### **Histogram**\n",
    "<p style='text-align: justify;'>\n",
    "Another good overview is the histogram: Containers or 'bins' are created over the range of values found within a column and the count of the values for each bin is plotted on the vertical axis.\n",
    "</p>\n"
   ]
  },
  {
   "cell_type": "code",
   "execution_count": null,
   "id": "c7e6ed25",
   "metadata": {},
   "outputs": [],
   "source": [
    "fig, ax = subplots(ncols=2, nrows=1)\n",
    "\n",
    "ax[0].hist(df['calcium'])\n",
    "ax[0].set(xlabel='Calcium', ylabel='Count');\n",
    "\n",
    "ax[1].hist(df['sodium'])\n",
    "ax[1].set(xlabel='Sodium', ylabel='Count');\n",
    "\n",
    "fig.suptitle('Histograms of Everley concentrations', fontsize=15);\n",
    "\n",
    "show()"
   ]
  },
  {
   "cell_type": "markdown",
   "id": "92d532bd",
   "metadata": {},
   "source": [
    "<img src=\"fig/01-data_frames_1-rendered-unnamed-chunk-41-13.png\" width=\"672\" style=\"display: block; margin: auto;\" />"
   ]
  },
  {
   "cell_type": "markdown",
   "id": "5c29ec96",
   "metadata": {},
   "source": [
    "This also shows how to add labels to the axes and a title to the overall figure.\n",
    "\n",
    "This uses the default value for the generation of the bins. It is set to 10 bins over the range of which values are found. The number of bins in the histogram can be changed using the keyword argument 'bins':\n",
    "\n"
   ]
  },
  {
   "cell_type": "code",
   "execution_count": null,
   "id": "9c50770f",
   "metadata": {},
   "outputs": [],
   "source": [
    "fig, ax = subplots(ncols=2, nrows=1)\n",
    "\n",
    "ax[0].hist(df['calcium'], bins=5)\n",
    "ax[0].set(xlabel='Calcium, 5 bins', ylabel='Count');\n",
    "\n",
    "ax[1].hist(df['calcium'], bins=15)\n",
    "ax[1].set(xlabel='Calcium, 15 bins', ylabel='Count');\n",
    "fig.suptitle('Histograms with Different Binnings', fontsize=16);\n",
    "\n",
    "show()"
   ]
  },
  {
   "cell_type": "markdown",
   "id": "dcdddc8c",
   "metadata": {},
   "source": [
    "<img src=\"fig/01-data_frames_1-rendered-unnamed-chunk-42-15.png\" width=\"672\" style=\"display: block; margin: auto;\" />"
   ]
  },
  {
   "cell_type": "markdown",
   "id": "03b51fe5",
   "metadata": {},
   "source": [
    "Note how the y-label of the right figure is not placed well. To correct for the placement of the labels and the title, you can use \n",
    "`tight_layout` on the figure:\n"
   ]
  },
  {
   "cell_type": "code",
   "execution_count": null,
   "id": "c87549a8",
   "metadata": {},
   "outputs": [],
   "source": [
    "fig, ax = subplots(ncols=2, nrows=1)\n",
    "\n",
    "ax[0].hist(df['calcium'], bins=5)\n",
    "ax[0].set(xlabel='Calcium, 5 bins', ylabel='Count');\n",
    "\n",
    "ax[1].hist(df['calcium'], bins=15)\n",
    "ax[1].set(xlabel='Calcium, 15 bins', ylabel='Count');\n",
    "fig.suptitle('Histograms with Different Binnings', fontsize=16);\n",
    "fig.tight_layout()\n",
    "\n",
    "show()"
   ]
  },
  {
   "cell_type": "markdown",
   "id": "6fad3d92",
   "metadata": {},
   "source": [
    "<img src=\"fig/01-data_frames_1-rendered-unnamed-chunk-43-17.png\" width=\"672\" style=\"display: block; margin: auto;\" />\n",
    "\n",
    "## DIY7: Create the histogram of a column\n",
    "\n",
    "Take the loan data and display the histogram of the loan amount that people asked for. (Loan amounts are divided by 1000, i.e. in k£ on the horizontal axis).  Use e.g. 20 bins. \n",
    "\n",
    "\n"
   ]
  },
  {
   "cell_type": "code",
   "execution_count": null,
   "id": "cbd99d26",
   "metadata": {},
   "outputs": [],
   "source": [
    "# Histogram of loan amounts in k£\n",
    "fig, ax = subplots()\n",
    "ax.hist(df_loan['LoanAmount'], bins=20)\n",
    "ax.set(xlabel='Loan amount', ylabel='Count');\n",
    "ax.set_title('Histograms of Loan Amounts', fontsize=16);\n",
    "\n",
    "show()"
   ]
  },
  {
   "cell_type": "markdown",
   "id": "ce7ccf00",
   "metadata": {},
   "source": [
    "<img src=\"fig/01-data_frames_1-rendered-unnamed-chunk-44-19.png\" width=\"672\" style=\"display: block; margin: auto;\" />"
   ]
  },
  {
   "cell_type": "markdown",
   "id": "f3ad16f3",
   "metadata": {},
   "source": [
    "## Handling the Diabetes Data Set\n",
    "\n",
    "We now return to the data set that started our enquiry into the handling of data in a dataframe. \n",
    "\n",
    "We will now:\n",
    "\n",
    "- Import the diabetes data from 'sklearn'\n",
    "- Check the shape of the dataframe and search for NANs\n",
    "- Get a summary plot of one of its statistical quantities (e.g. mean) for all columns\n",
    "\n",
    "First we import the data set and check its `head`. Wait until the numbers show below the code, it might take a while.\n",
    "\n"
   ]
  },
  {
   "cell_type": "code",
   "execution_count": null,
   "id": "726ebbbb",
   "metadata": {},
   "outputs": [],
   "source": [
    "from sklearn import datasets\n",
    "\n",
    "diabetes = datasets.load_diabetes()\n",
    "\n",
    "X = diabetes.data\n",
    "\n",
    "from pandas import DataFrame\n",
    "\n",
    "df_diabetes = DataFrame(data=X)\n",
    "\n",
    "df_diabetes.head()"
   ]
  },
  {
   "cell_type": "markdown",
   "id": "296e7e96",
   "metadata": {},
   "source": [
    "```{.output}\n",
    "          0         1         2  ...         7         8         9\n",
    "0  0.038076  0.050680  0.061696  ... -0.002592  0.019908 -0.017646\n",
    "1 -0.001882 -0.044642 -0.051474  ... -0.039493 -0.068330 -0.092204\n",
    "2  0.085299  0.050680  0.044451  ... -0.002592  0.002864 -0.025930\n",
    "3 -0.089063 -0.044642 -0.011595  ...  0.034309  0.022692 -0.009362\n",
    "4  0.005383 -0.044642 -0.036385  ... -0.002592 -0.031991 -0.046641\n",
    "\n",
    "[5 rows x 10 columns]\n",
    "```\n",
    "    \n",
    "If you don't see all columns, use the cursor to scroll to the right.\n",
    "Now let's check the number of columns and rows.\n",
    "\n"
   ]
  },
  {
   "cell_type": "code",
   "execution_count": null,
   "id": "fda94739",
   "metadata": {},
   "outputs": [],
   "source": [
    "no_rows = len(df_diabetes)\n",
    "no_cols = len(df_diabetes.columns)\n",
    "\n",
    "print('Rows:', no_rows, 'Columns:', no_cols)"
   ]
  },
  {
   "cell_type": "markdown",
   "id": "8d8abcd4",
   "metadata": {},
   "source": [
    "```{.output}\n",
    "Rows: 442 Columns: 10\n",
    "```\n",
    " \n",
    "There are 442 rows organised in 10 columns.\n",
    "\n",
    "To get an overview, let us extract the mean of each column using 'describe' and plot all means as a bar chart. The Matplotlib function to plot a bar chart is `bar`:\n"
   ]
  },
  {
   "cell_type": "code",
   "execution_count": null,
   "id": "d2f1cbd7",
   "metadata": {},
   "outputs": [],
   "source": [
    "conc_means = list()\n",
    "\n",
    "for col in df_diabetes:\n",
    "    conc_means.append(df_diabetes[col].describe()['mean'])\n",
    "\n",
    "print('The columns are: ', list(df_diabetes.columns))\n",
    "print('The medians are: ', conc_means, 2)"
   ]
  },
  {
   "cell_type": "markdown",
   "id": "a5366b40",
   "metadata": {},
   "source": [
    "```{.output}\n",
    "The columns are:  [0, 1, 2, 3, 4, 5, 6, 7, 8, 9]\n",
    "The medians are:  [-3.6396225400041895e-16, 1.309912460049817e-16, -8.013951493363262e-16, 1.2898179256674614e-16, -9.042540472060098e-17, 1.3011211012575365e-16, -4.563971121592555e-16, 3.8631742350078977e-16, -3.848103334221131e-16, -3.39848812741592e-16] 2\n",
    "```\n"
   ]
  },
  {
   "cell_type": "code",
   "execution_count": null,
   "id": "7f216389",
   "metadata": {},
   "outputs": [],
   "source": [
    "fig, ax = subplots()\n",
    "\n",
    "bins = range(10)\n",
    "\n",
    "ax.bar(bins, conc_means);\n",
    "\n",
    "show()"
   ]
  },
  {
   "cell_type": "markdown",
   "id": "4274d9e5",
   "metadata": {},
   "source": [
    "<img src=\"fig/01-data_frames_1-rendered-unnamed-chunk-48-21.png\" width=\"672\" style=\"display: block; margin: auto;\" />\n",
    "\n",
    "<p style='text-align: justify;'>\n",
    "The bars in this plot go up and down. Note, however, that the vertical axis has values ranging from -10^(-16)^ to +10^(-16)^. This means that for all practical purposes all means are zero. This is not a coincidence. The original values have been normalised to zero mean for the purpose of applying some machine learning algorithm to them. \n",
    "</p>\n",
    "\n",
    "In this example, we see how important it is to check the data before working with them. \n",
    "\n",
    "## Exercises\n",
    "\n",
    "#### End of chapter Exercises\n",
    "\n",
    "Download the cervical cancer data set provided, import it using `read_csv`.\n",
    "\n",
    "1. How many rows and columns are there?\n",
    "\n",
    "2. How many columns contain floating point numbers (float64)?\n",
    "\n",
    "3. How many of the subjects are smokers?\n",
    "\n",
    "4. Calculate the percentage of smokers\n",
    "\n",
    "5. Plot the age distribution (with e.g. 50 bins)\n",
    "\n",
    "6. Get the mean and standard distribution of age of first sexual intercourse"
   ]
  },
  {
   "cell_type": "markdown",
   "id": "dcc55a78",
   "metadata": {},
   "source": [
    "## Please check these solutions only after submitting the assignments.\n",
    "\n",
    "### Q1\n"
   ]
  },
  {
   "cell_type": "code",
   "execution_count": null,
   "id": "c1252a5a",
   "metadata": {},
   "outputs": [],
   "source": [
    "df_cervix = read_csv(\"data/cervical_cancer.csv\") \n",
    "\n",
    "df_cervix.head(10)\n",
    "\n",
    "\n",
    "cervix_rows, cervix_cols = len(df_cervix), len(df_cervix.columns)\n",
    "\n",
    "print('Number of rows:', cervix_rows)\n",
    "print('Number of columns:', cervix_cols)"
   ]
  },
  {
   "cell_type": "markdown",
   "id": "c4c7b630",
   "metadata": {},
   "source": [
    "```{.output}\n",
    "   Age  Number of sexual partners  ...  Citology  Biopsy\n",
    "0   18                        4.0  ...         0       0\n",
    "1   15                        1.0  ...         0       0\n",
    "2   52                        5.0  ...         0       0\n",
    "3   46                        3.0  ...         0       0\n",
    "4   42                        3.0  ...         0       0\n",
    "5   51                        3.0  ...         0       1\n",
    "6   26                        1.0  ...         0       0\n",
    "7   45                        1.0  ...         0       0\n",
    "8   44                        3.0  ...         0       0\n",
    "9   27                        1.0  ...         0       0\n",
    "\n",
    "[10 rows x 34 columns]\n",
    "Number of rows: 668\n",
    "Number of columns: 34\n",
    "```\n",
    "\n",
    "### Q2\n"
   ]
  },
  {
   "cell_type": "code",
   "execution_count": null,
   "id": "deb36fdd",
   "metadata": {},
   "outputs": [],
   "source": [
    "df_types = df_cervix.dtypes == 'float64'\n",
    "\n",
    "print('There are', df_types.sum(), 'columns with floating point numbers')\n"
   ]
  },
  {
   "cell_type": "markdown",
   "id": "dab7156d",
   "metadata": {},
   "source": [
    "```{.output}\n",
    "There are 24 columns with floating point numbers\n",
    "```"
   ]
  },
  {
   "cell_type": "code",
   "execution_count": null,
   "id": "0900825c",
   "metadata": {},
   "outputs": [],
   "source": [
    "df_types"
   ]
  },
  {
   "cell_type": "markdown",
   "id": "df973b84",
   "metadata": {},
   "source": [
    "```{.output}\n",
    "Age                                   False\n",
    "Number of sexual partners              True\n",
    "First sexual intercourse               True\n",
    "Num of pregnancies                     True\n",
    "Smokes                                 True\n",
    "Smokes (years)                         True\n",
    "Smokes (packs/year)                    True\n",
    "Hormonal Contraceptives                True\n",
    "Hormonal Contraceptives (years)        True\n",
    "IUD                                    True\n",
    "IUD (years)                            True\n",
    "STDs                                   True\n",
    "STDs (number)                          True\n",
    "STDs:condylomatosis                    True\n",
    "STDs:cervical condylomatosis           True\n",
    "STDs:vaginal condylomatosis            True\n",
    "STDs:vulvo-perineal condylomatosis     True\n",
    "STDs:syphilis                          True\n",
    "STDs:pelvic inflammatory disease       True\n",
    "STDs:genital herpes                    True\n",
    "STDs:molluscum contagiosum             True\n",
    "STDs:AIDS                              True\n",
    "STDs:HIV                               True\n",
    "STDs:Hepatitis B                       True\n",
    "STDs:HPV                               True\n",
    "STDs: Number of diagnosis             False\n",
    "Dx:Cancer                             False\n",
    "Dx:CIN                                False\n",
    "Dx:HPV                                False\n",
    "Dx                                    False\n",
    "Hinselmann                            False\n",
    "Schiller                              False\n",
    "Citology                              False\n",
    "Biopsy                                False\n",
    "dtype: bool\n",
    "```\n",
    "\n",
    "### Q3\n"
   ]
  },
  {
   "cell_type": "code",
   "execution_count": null,
   "id": "ba9f120c",
   "metadata": {},
   "outputs": [],
   "source": [
    "for col in df_cervix:\n",
    "    \n",
    "    print(type(df_cervix[col][0]))\n",
    "\n",
    "\n",
    "cervix_smoker = df_cervix['Smokes'] == 1.0"
   ]
  },
  {
   "cell_type": "markdown",
   "id": "3a7a1f03",
   "metadata": {},
   "source": [
    "```{.output}\n",
    "<class 'numpy.int64'>\n",
    "<class 'numpy.float64'>\n",
    "<class 'numpy.float64'>\n",
    "<class 'numpy.float64'>\n",
    "<class 'numpy.float64'>\n",
    "<class 'numpy.float64'>\n",
    "<class 'numpy.float64'>\n",
    "<class 'numpy.float64'>\n",
    "<class 'numpy.float64'>\n",
    "<class 'numpy.float64'>\n",
    "<class 'numpy.float64'>\n",
    "<class 'numpy.float64'>\n",
    "<class 'numpy.float64'>\n",
    "<class 'numpy.float64'>\n",
    "<class 'numpy.float64'>\n",
    "<class 'numpy.float64'>\n",
    "<class 'numpy.float64'>\n",
    "<class 'numpy.float64'>\n",
    "<class 'numpy.float64'>\n",
    "<class 'numpy.float64'>\n",
    "<class 'numpy.float64'>\n",
    "<class 'numpy.float64'>\n",
    "<class 'numpy.float64'>\n",
    "<class 'numpy.float64'>\n",
    "<class 'numpy.float64'>\n",
    "<class 'numpy.int64'>\n",
    "<class 'numpy.int64'>\n",
    "<class 'numpy.int64'>\n",
    "<class 'numpy.int64'>\n",
    "<class 'numpy.int64'>\n",
    "<class 'numpy.int64'>\n",
    "<class 'numpy.int64'>\n",
    "<class 'numpy.int64'>\n",
    "<class 'numpy.int64'>\n",
    "```\n",
    "\n",
    "### Q4\n"
   ]
  },
  {
   "cell_type": "code",
   "execution_count": null,
   "id": "5e68aeda",
   "metadata": {},
   "outputs": [],
   "source": [
    "print('There are', cervix_smoker.sum(), 'smokers.')\n",
    "print('This is', round(100*cervix_smoker.sum() / cervix_rows, 1), '% of the total.')"
   ]
  },
  {
   "cell_type": "markdown",
   "id": "754e0ad5",
   "metadata": {},
   "source": [
    "```{.output}\n",
    "There are 96 smokers.\n",
    "This is 14.4 % of the total.\n",
    "```\n",
    "\n",
    "### Q5"
   ]
  },
  {
   "cell_type": "code",
   "execution_count": null,
   "id": "9a7e04e7",
   "metadata": {},
   "outputs": [],
   "source": [
    "fig, ax = subplots()\n",
    "\n",
    "ax.hist(df_cervix['Age'], bins=50)\n",
    "ax.set_xlabel('Age', fontsize=20)\n",
    "ax.set_ylabel('Count', fontsize=20)\n",
    "ax.set_title('Age distribution of subjects',  fontsize=24);\n",
    "show()"
   ]
  },
  {
   "cell_type": "markdown",
   "id": "2b67234b",
   "metadata": {},
   "source": [
    "<img src=\"fig/01-data_frames_1-rendered-unnamed-chunk-53-23.png\" width=\"672\" style=\"display: block; margin: auto;\" />\n",
    "\n",
    "### Q6\n"
   ]
  },
  {
   "cell_type": "code",
   "execution_count": null,
   "id": "bd4c8bee",
   "metadata": {},
   "outputs": [],
   "source": [
    "int_mean = df_cervix['First sexual intercourse'].mean()\n",
    "\n",
    "int_std = df_cervix['First sexual intercourse'].std()\n",
    "\n",
    "print('Mean of age of first sexual intercourse: ', round(int_mean, 1))\n",
    "print('Standard distribution of age of first sexual intercourse: ', round(int_std, 1))"
   ]
  },
  {
   "cell_type": "markdown",
   "id": "ffcc3064",
   "metadata": {},
   "source": [
    "```{.output}\n",
    "Mean of age of first sexual intercourse:  17.1\n",
    "Standard distribution of age of first sexual intercourse:  2.9\n",
    "```\n",
    "\n"
   ]
  },
  {
   "cell_type": "markdown",
   "id": "619aa891",
   "metadata": {},
   "source": [
    "- `Pandas` package contains useful functions to work with dataframes.\n",
    "- `iloc` property is used to index and slice a dataframe. \n",
    "- `describe` function is used to get a summary of basic data features. \n",
    "- The simplest way of visualisation is to use Pandas functionality.\n",
    "- `Matplotlib` is a comprehensive library for creating static, animated, and interactive visualizations in Python."
   ]
  },
  {
   "cell_type": "markdown",
   "id": "52dc4428",
   "metadata": {},
   "source": [
    "[r-markdown]: https://rmarkdown.rstudio.com/"
   ]
  }
 ],
 "metadata": {
  "jupytext": {
   "cell_metadata_filter": "-all",
   "main_language": "python",
   "notebook_metadata_filter": "-all"
  }
 },
 "nbformat": 4,
 "nbformat_minor": 5
}
