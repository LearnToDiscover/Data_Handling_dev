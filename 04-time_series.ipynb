{
 "cells": [
  {
   "cell_type": "raw",
   "id": "d9caaf70",
   "metadata": {},
   "source": [
    "---\n",
    "title: \"Time Series\"\n",
    "teaching: 60\n",
    "exercises: 60\n",
    "---"
   ]
  },
  {
   "cell_type": "markdown",
   "id": "dc54b34b",
   "metadata": {},
   "source": [
    "[**Download Chapter pdf**](04-time_series.md.pdf)\n",
    "\n",
    "[**Download Chapter notebook (ipynb)**](04-time_series.ipynb)\n",
    "\n",
    "[<span style=\"color: rgb(255, 0, 0);\">**Mandatory Lesson Feedback Survey**</span>](https://docs.google.com/forms/d/e/1FAIpQLSdr0capF7jloJhPH3Pki1B3LZoKOG16poOpuVJ7SL2LkwLHQA/viewform?pli=1)"
   ]
  },
  {
   "cell_type": "markdown",
   "id": "4c9e5ad0",
   "metadata": {},
   "source": [
    "- How is timeseries data visualised?\n",
    "- Why do we need to tidy up/filter the data?\n",
    "- How to study correlation among timeseries data points? \n"
   ]
  },
  {
   "cell_type": "markdown",
   "id": "9fda4b5c",
   "metadata": {},
   "source": [
    "- Learning ways to display multiple time series.\n",
    "- Understanding why filtering is needed.\n",
    "- Explaining fourier spectrum of time series.\n",
    "- Knowledge of correlation matrix of time series.\n"
   ]
  },
  {
   "cell_type": "markdown",
   "id": "cbbbfa6b",
   "metadata": {},
   "source": [
    "## Prerequisites\n",
    "\n",
    "- [Dataframes 1 and 2](01-data_frames_1.Rmd)\n",
    "- [Image Handling](03-image_handling.Rmd)\n",
    "- [Basics of Numpy Arrays]()\n",
    "\n"
   ]
  },
  {
   "cell_type": "code",
   "execution_count": null,
   "id": "1f503e40",
   "metadata": {},
   "outputs": [],
   "source": [
    "from pandas import read_csv"
   ]
  },
  {
   "cell_type": "markdown",
   "id": "0930a72a",
   "metadata": {},
   "source": [
    "```{.error}\n",
    "Error in py_call_impl(callable, dots$args, dots$keywords): ModuleNotFoundError: No module named 'pandas'\n",
    "\n",
    "Detailed traceback:\n",
    "  File \"<string>\", line 1, in <module>\n",
    "  File \"/home/runner/.local/share/renv/cache/v5/R-4.2/x86_64-pc-linux-gnu/reticulate/1.24/ffdf27627a3c1537478073c43b6e7980/reticulate/python/rpytools/loader.py\", line 39, in _import_hook\n",
    "    module = _import(\n",
    "```"
   ]
  },
  {
   "cell_type": "code",
   "execution_count": null,
   "id": "d3161a04",
   "metadata": {},
   "outputs": [],
   "source": [
    "from numpy import arange, zeros, linspace, sin, pi, c_, mean, var, array\n",
    "from numpy import correlate, corrcoef, fill_diagonal, amin, amax, asarray\n",
    "from numpy import around\n",
    "from numpy.ma import masked_less, masked_greater\n",
    "\n",
    "from matplotlib.pyplot import subplots, yticks, legend, axis, figure, show"
   ]
  },
  {
   "cell_type": "markdown",
   "id": "a08f04d1",
   "metadata": {},
   "source": [
    "```{.error}\n",
    "Error in py_call_impl(callable, dots$args, dots$keywords): ModuleNotFoundError: No module named 'matplotlib'\n",
    "\n",
    "Detailed traceback:\n",
    "  File \"<string>\", line 1, in <module>\n",
    "  File \"/home/runner/.local/share/renv/cache/v5/R-4.2/x86_64-pc-linux-gnu/reticulate/1.24/ffdf27627a3c1537478073c43b6e7980/reticulate/python/rpytools/loader.py\", line 39, in _import_hook\n",
    "    module = _import(\n",
    "```"
   ]
  },
  {
   "cell_type": "markdown",
   "id": "ced0e88c",
   "metadata": {},
   "source": [
    "## Python Function\n",
    "\n",
    "<p style='text-align: justify;'>\n",
    "Please execute the following function definition before proceeding. The function code takes data and creates a plot of all columns as time series, one above the other. When you execute the function code nothing happens. Similar to the import, running a function code will only activate it and make it available for later use.\n",
    "</p>\n"
   ]
  },
  {
   "cell_type": "code",
   "execution_count": null,
   "id": "3ff87b2e",
   "metadata": {
    "lines_to_next_cell": 2
   },
   "outputs": [],
   "source": [
    "def plot_series(data, sr):\n",
    "    '''\n",
    "    Time series plot of multiple time series\n",
    "    Data are normalised to mean=0 and var=1 \n",
    "    \n",
    "    data: nxm numpy array. Rows are time points, columns are recordings\n",
    "    sr: sampling rate, same time units as period\n",
    "    '''\n",
    "\n",
    "    samples = data.shape[0]\n",
    "    sensors = data.shape[1]\n",
    "    \n",
    "    period = samples // sr\n",
    "\n",
    "    time = linspace(0, period, period*sr)\n",
    "\n",
    "    offset = 5 # for mean=0 and var=1 normalised data\n",
    "\n",
    "    # Calculate means and standard deviations of all columns\n",
    "    means = data.mean(axis=0)\n",
    "    stds = data.std(axis=0)\n",
    "\n",
    "    # Plot each series with an offset\n",
    "    fig, ax = subplots(figsize=(7, 8))\n",
    "\n",
    "    ax.plot(time, (data - means)/stds + offset*arange(sensors-1,-1,-1));\n",
    "\n",
    "    ax.plot(time, zeros((samples, sensors)) + offset*arange(sensors-1,-1,-1),'--',color='gray');\n",
    "\n",
    "    yticks([]);\n",
    "\n",
    "    names = [str(x) for x in range(sensors)]\n",
    "    legend(names)\n",
    "        \n",
    "    ax.set(xlabel='Time')\n",
    "\n",
    "    axis('tight');\n",
    "    \n",
    "    return fig, ax"
   ]
  },
  {
   "cell_type": "markdown",
   "id": "da65bc60",
   "metadata": {},
   "source": [
    "## Example: Normal and Pathological EEG\n",
    "\n",
    "<p style='text-align: justify;'>\n",
    "As an example, let us import two sets of time series data and convert them to numpy arrays, here called _data_back_ and _data_epil_. They represent human electroencephalogram (EEG) as recorded during normal _background_ activity and during an epileptic seizure called _absence_ seizure. \n",
    "</p>\n"
   ]
  },
  {
   "cell_type": "code",
   "execution_count": null,
   "id": "dad29876",
   "metadata": {},
   "outputs": [],
   "source": [
    "df_back = read_csv(\"data/EEG_background.txt\", delim_whitespace=True) "
   ]
  },
  {
   "cell_type": "markdown",
   "id": "3c07ef28",
   "metadata": {},
   "source": [
    "```{.error}\n",
    "Error in py_call_impl(callable, dots$args, dots$keywords): NameError: name 'read_csv' is not defined\n",
    "\n",
    "Detailed traceback:\n",
    "  File \"<string>\", line 1, in <module>\n",
    "```"
   ]
  },
  {
   "cell_type": "code",
   "execution_count": null,
   "id": "0c18333c",
   "metadata": {},
   "outputs": [],
   "source": [
    "df_epil = read_csv(\"data/EEG_absence.txt\", delim_whitespace=True) "
   ]
  },
  {
   "cell_type": "markdown",
   "id": "d88b26ae",
   "metadata": {},
   "source": [
    "```{.error}\n",
    "Error in py_call_impl(callable, dots$args, dots$keywords): NameError: name 'read_csv' is not defined\n",
    "\n",
    "Detailed traceback:\n",
    "  File \"<string>\", line 1, in <module>\n",
    "```"
   ]
  },
  {
   "cell_type": "code",
   "execution_count": null,
   "id": "537f8107",
   "metadata": {},
   "outputs": [],
   "source": [
    "sr = 256     # 1 / seconds\n",
    "period = 6   # seconds\n",
    "channels = 10\n",
    "\n",
    "d1 = df_back.to_numpy()"
   ]
  },
  {
   "cell_type": "markdown",
   "id": "17468f34",
   "metadata": {},
   "source": [
    "```{.error}\n",
    "Error in py_call_impl(callable, dots$args, dots$keywords): NameError: name 'df_back' is not defined\n",
    "\n",
    "Detailed traceback:\n",
    "  File \"<string>\", line 1, in <module>\n",
    "```"
   ]
  },
  {
   "cell_type": "code",
   "execution_count": null,
   "id": "6d9f21e0",
   "metadata": {},
   "outputs": [],
   "source": [
    "d2 = df_epil.to_numpy()"
   ]
  },
  {
   "cell_type": "markdown",
   "id": "ae97352b",
   "metadata": {},
   "source": [
    "```{.error}\n",
    "Error in py_call_impl(callable, dots$args, dots$keywords): NameError: name 'df_epil' is not defined\n",
    "\n",
    "Detailed traceback:\n",
    "  File \"<string>\", line 1, in <module>\n",
    "```"
   ]
  },
  {
   "cell_type": "code",
   "execution_count": null,
   "id": "a5dcd01e",
   "metadata": {},
   "outputs": [],
   "source": [
    "data_back = d1[:period*sr:, :channels]"
   ]
  },
  {
   "cell_type": "markdown",
   "id": "fc448c2d",
   "metadata": {},
   "source": [
    "```{.error}\n",
    "Error in py_call_impl(callable, dots$args, dots$keywords): NameError: name 'd1' is not defined\n",
    "\n",
    "Detailed traceback:\n",
    "  File \"<string>\", line 1, in <module>\n",
    "```"
   ]
  },
  {
   "cell_type": "code",
   "execution_count": null,
   "id": "08d4c168",
   "metadata": {},
   "outputs": [],
   "source": [
    "data_epil = d2[:period*sr:, :channels]"
   ]
  },
  {
   "cell_type": "markdown",
   "id": "36146821",
   "metadata": {},
   "source": [
    "```{.error}\n",
    "Error in py_call_impl(callable, dots$args, dots$keywords): NameError: name 'd2' is not defined\n",
    "\n",
    "Detailed traceback:\n",
    "  File \"<string>\", line 1, in <module>\n",
    "```\n",
    "\n",
    "<p style='text-align: justify;'>\n",
    "The `read_csv` function is used with the keyword argument `delim_whitespace`. When set to True, this allows to import data that are space-separated (rather than comma-separated). If you check the data .txt files, you will see that the numbers (which represent voltages) are indeed separated by space, not comma. \n",
    "</p>\n",
    "\n",
    "<p style='text-align: justify;'>\n",
    "Next, three constants are assigned: The sampling rate, sr, which is given in number of samples recorded per seconds; the duration of the recording, period, which is given in seconds; and the number of columns, referred to as channels, to be extracted from the recording. We use the first 10 columns in this lesson.\n",
    "</p>\n",
    "\n",
    "The data are then converted from a data frame to Numpy arrays.\n",
    "\n",
    "To see the names of the channels (or recording sensors) we can use `head`. \n"
   ]
  },
  {
   "cell_type": "code",
   "execution_count": null,
   "id": "f1ea2c03",
   "metadata": {},
   "outputs": [],
   "source": [
    "df_back.head()"
   ]
  },
  {
   "cell_type": "markdown",
   "id": "bd795f9a",
   "metadata": {},
   "source": [
    "```{.error}\n",
    "Error in py_call_impl(callable, dots$args, dots$keywords): NameError: name 'df_back' is not defined\n",
    "\n",
    "Detailed traceback:\n",
    "  File \"<string>\", line 1, in <module>\n",
    "```\n",
    "\n",
    "<p style='text-align: justify;'>\n",
    "The row indices and column names for the seizure data look the same. The names of the recording channels are from the commonly used [10-20 system](https://en.wikipedia.org/wiki/10–20_system_(EEG)) to record voltages of brain activity from the scalp in humans. E.g. 'F' stands for the frontal lobe.  \n",
    "</p>\n",
    "\n",
    "<p style='text-align: justify;'>\n",
    "We can now use the plot function from above to plot the data. Note from the definition (first line) that two input arguments are reqired: the data set and the sampling rate. \n",
    "</p>\n"
   ]
  },
  {
   "cell_type": "code",
   "execution_count": null,
   "id": "9fae45c3",
   "metadata": {
    "lines_to_next_cell": 2
   },
   "outputs": [],
   "source": [
    "plot_series(data_back, sr)\n",
    "Error in py_call_impl(callable, dots$args, dots$keywords): NameError: name 'data_back' is not defined\n",
    "\n",
    "Detailed traceback:\n",
    "  File \"<string>\", line 1, in <module>\n",
    "show()\n",
    "Error in py_call_impl(callable, dots$args, dots$keywords): NameError: name 'show' is not defined\n",
    "\n",
    "Detailed traceback:\n",
    "  File \"<string>\", line 1, in <module>"
   ]
  },
  {
   "cell_type": "code",
   "execution_count": null,
   "id": "8dadc519",
   "metadata": {},
   "outputs": [],
   "source": [
    "plot_series(data_epil, sr);\n",
    "Error in py_call_impl(callable, dots$args, dots$keywords): NameError: name 'data_epil' is not defined\n",
    "\n",
    "Detailed traceback:\n",
    "  File \"<string>\", line 1, in <module>\n",
    "show()\n",
    "Error in py_call_impl(callable, dots$args, dots$keywords): NameError: name 'show' is not defined\n",
    "\n",
    "Detailed traceback:\n",
    "  File \"<string>\", line 1, in <module>"
   ]
  },
  {
   "cell_type": "markdown",
   "id": "8dbdc52f",
   "metadata": {},
   "source": [
    "__Observations__\n",
    "\n",
    "1. Background:\n",
    "\n",
    "- There are irregular oscillations of all recorded brain potentials.\n",
    "\n",
    "- Oscillations recorded at different locations above the brain differ.\n",
    "\n",
    "- Oscillations are not stable but modulated over time.\n",
    "\n",
    "- There are different frequency components in each trace.\n",
    "\n",
    "2. Epileptic Seizure:\n",
    "\n",
    "- There are regular oscillations.\n",
    "\n",
    "- Oscillations recorded at different locations are not identical but similar or at least related in shape.\n",
    "\n",
    "- Despite some modulation, oscillations are fairly stable over time.\n",
    "\n",
    "- There are repetitive motifs composed of two major components throughout the recording, a sharp _spike_ and a slow _wave_. \n",
    "\n",
    "__Task__\n",
    "\n",
    "<p style='text-align: justify;'>\n",
    "Quantify features of these time series data to get an overview. As a univariate feature we can use the frequency content. This takes into account the fact that the rows (or samplles) are not independent of each other but are organised along the time axis. In consequence, there are correlations between data points along the rows of each column and the __Fourier spectrum__ can be used to identify these. \n",
    "</p>\n",
    "\n",
    "<p style='text-align: justify;'>\n",
    "The Fourier spectrum assumes that the data are stationary and can be thought of as a superposition of regular sine waves with different frequencies. Its output will show which of the frequencies are present in the data and also their respective amplitudes. \n",
    "</p>\n",
    "\n",
    "As a bivariate feature we can use the cross-correlation matrix.\n",
    "\n",
    "## Work Through Example\n",
    "\n",
    "Check the Numpy array containing the background and seizure data. \n"
   ]
  },
  {
   "cell_type": "code",
   "execution_count": null,
   "id": "06abf01e",
   "metadata": {},
   "outputs": [],
   "source": [
    "print(data_back.shape, data_epil.shape)"
   ]
  },
  {
   "cell_type": "markdown",
   "id": "2a057390",
   "metadata": {},
   "source": [
    "```{.error}\n",
    "Error in py_call_impl(callable, dots$args, dots$keywords): NameError: name 'data_back' is not defined\n",
    "\n",
    "Detailed traceback:\n",
    "  File \"<string>\", line 1, in <module>\n",
    "```\n",
    "\n",
    "There are 1536 rows and 10 columns.\n",
    "\n",
    "### **Display data with offset**\n",
    "\n",
    "<p style='text-align: justify;'>\n",
    "Take a look at the code of the function `plot_series` that creates the time series plot. It requires the input of a data file where the row index is interpreted as time. In addition, the sampling rate sr is required to be able to extract the time scale. The sampling rate specifies the number of samples recorded per unit time. \n",
    "</p>\n",
    "\n",
    "The sensors or recording channels are assumed to be in the columns. \n"
   ]
  },
  {
   "cell_type": "code",
   "execution_count": null,
   "id": "118c1a79",
   "metadata": {},
   "outputs": [],
   "source": [
    "def plot_series(data, sr):\n",
    "    '''\n",
    "    Time series plot of multiple time series\n",
    "    Data are normalised to mean=0 and var=1 \n",
    "    \n",
    "    data: nxm numpy array. Rows are time points, columns are channels\n",
    "    sr: sampling rate, same time units as period\n",
    "    '''\n",
    "\n",
    "    samples = data.shape[0]\n",
    "    sensors = data.shape[1]\n",
    "    \n",
    "    period = samples // sr\n",
    "\n",
    "    time = linspace(0, period, period*sr)\n",
    "\n",
    "    offset = 5 # for mean=0 and var=1 normalised data\n",
    "\n",
    "    # Calculate means and standard deviations of all columns\n",
    "    means = data.mean(axis=0)\n",
    "    stds = data.std(axis=0)\n",
    "\n",
    "    # Plot each series with an offset\n",
    "    fig, ax = subplots(figsize=(7, 8))\n",
    "\n",
    "    ax.plot(time, (data - means)/stds + offset*arange(sensors-1,-1,-1));\n",
    "\n",
    "    ax.plot(time, zeros((samples, sensors)) + offset*arange(sensors-1,-1,-1),'--',color='gray');\n",
    "\n",
    "    yticks([]);\n",
    "\n",
    "    names = [str(x) for x in range(sensors)]\n",
    "    legend(names)\n",
    "        \n",
    "    ax.set(xlabel='Time')\n",
    "\n",
    "    axis('tight');\n",
    "   \n",
    "    return fig, ax"
   ]
  },
  {
   "cell_type": "markdown",
   "id": "ea320772",
   "metadata": {},
   "source": [
    "The declaration syntax `def` is followed by the function name and, in parenthesis, the input arguments. It is completed with a colon.\n",
    "\n",
    "Following the declaration is the documentation of the function. \n",
    "\n",
    "Next comes the function code, all indented. \n",
    "\n",
    "The function closes with the optional output syntax `return` and any number of returned variables, anything that might be used as a product of running the function. \n",
    "\n",
    "In our example, the figure environment and the coordinate system are 'returned', and can in principle be used to further modify the plot. \n",
    "\n",
    "Here is how to call the function and then add a title and the sensor names to the display.\n",
    "\n"
   ]
  },
  {
   "cell_type": "code",
   "execution_count": null,
   "id": "19088c6f",
   "metadata": {},
   "outputs": [],
   "source": [
    "(fig, ax) = plot_series(data_epil, sr)\n",
    "Error in py_call_impl(callable, dots$args, dots$keywords): NameError: name 'data_epil' is not defined\n",
    "\n",
    "Detailed traceback:\n",
    "  File \"<string>\", line 1, in <module>\n",
    "names = df_back.columns[:channels]\n",
    "Error in py_call_impl(callable, dots$args, dots$keywords): NameError: name 'df_back' is not defined\n",
    "\n",
    "Detailed traceback:\n",
    "  File \"<string>\", line 1, in <module>\n",
    "fig.suptitle('Recording of Absence Seizure', fontsize=16);\n",
    "Error in py_call_impl(callable, dots$args, dots$keywords): NameError: name 'fig' is not defined\n",
    "\n",
    "Detailed traceback:\n",
    "  File \"<string>\", line 1, in <module>\n",
    "legend(names);\n",
    "Error in py_call_impl(callable, dots$args, dots$keywords): NameError: name 'legend' is not defined\n",
    "\n",
    "Detailed traceback:\n",
    "  File \"<string>\", line 1, in <module>\n",
    "show()\n",
    "Error in py_call_impl(callable, dots$args, dots$keywords): NameError: name 'show' is not defined\n",
    "\n",
    "Detailed traceback:\n",
    "  File \"<string>\", line 1, in <module>"
   ]
  },
  {
   "cell_type": "markdown",
   "id": "3fecff1c",
   "metadata": {},
   "source": [
    "<p style='text-align: justify;'>\n",
    "A function usually (but not necessarily) takes in one or several variables or values, processes them, and produces a specific result. The variable(s) given to a function and those produced by it are referred to as input arguments, and outputs respectively.\n",
    "</p>\n",
    "<p style='text-align: justify;'>\n",
    "There are different ways to create functions in Python. In this course, we will be using `def` to implement our own functions. This is the easiest, and by far the most common method for declaring functions. The structure of a typical function defined using `def` can be see in the `plot_series` example:\n",
    "</p>\n",
    "\n",
    "There are several points to remember in relation to functions:\n",
    "\n",
    "- The name of a function follows same principles as that of any other variable. It must be in lower-case characters.\n",
    "\n",
    "- The input arguments of a function,  e.g. _data_ and _sr_ in the example, are essentially variables whose scope is the function. That is, they are only accessible within the function itself, and not from outside the function.\n",
    "\n",
    "- Variables defined inside of a function, should not use the same name as variables defined outside. Otherwise they may override each other. \n",
    "\n",
    "<p style='text-align: justify;'>\n",
    "It is important for a function to only perform one specific task. As such it can be used independent of the current context. Try to avoid incorporating separable tasks into a single function.\n",
    "</p>\n",
    "<p style='text-align: justify;'>\n",
    "Once you start creating functions for different purposes you can start to build your own library of ready-to-use functions to address different needs. This is the primary principle of a popular programming paradigm known as [functional programming](https://en.wikipedia.org/wiki/Functional_programming).\n",
    "</p>\n",
    "\n",
    "### **Filtering**\n",
    "\n",
    "Data sets with complex waveforms contain many different components which may or may not be relevant for a specific question. \n",
    "<p style='text-align: justify;'>\n",
    "Data filtering is applied to take out specific components. Component in this context refers to 'frequency', i.e.  the number of cycles per unit of time. Thus a small number refers to low frequencies with long periods (cycles) and a large number to high frequencies with short periods. \n",
    "</p>\n",
    "\n",
    "Let us see a simple example how both low- and high-frequency components can be filtered (suppressed) in the example time series. \n",
    "\n",
    "Here is a simple function which takes two additional input arguments, the low and the high cut-off.\n",
    "\n"
   ]
  },
  {
   "cell_type": "code",
   "execution_count": null,
   "id": "20b4133a",
   "metadata": {
    "lines_to_next_cell": 0
   },
   "outputs": [],
   "source": [
    "def data_filter(data, sr, low, high):\n",
    "    \"\"\"\n",
    "    Filtering of multiple time series. \n",
    "\n",
    "    data: nxm numpy array. Rows are time points, columns are recordings\n",
    "    sr: sampling rate, same time units as period    \n",
    "    \n",
    "    low:  Low cut-off frequency (high-pass filter)\n",
    "    high: High cut-off frequency (low-pass filter)\n",
    "\n",
    "    return: filtered data\n",
    "    \"\"\"\n",
    "\n",
    "    from scipy.signal import butter, sosfilt\n",
    "\n",
    "    order = 5\n",
    "\n",
    "    filter_settings = [low, high, order]\n",
    "\n",
    "    sos = butter(order, (low,high), btype='bandpass', fs=sr, output='sos')\n",
    "\n",
    "    data_filtered = zeros((data.shape[0], data.shape[1]))\n",
    "\n",
    "    for index, column in enumerate(data.transpose()): \n",
    "        forward = sosfilt(sos, column)\n",
    "        backwards = sosfilt(sos, forward[-1::-1])\n",
    "        data_filtered[:, index] = backwards[-1::-1]\n",
    "        \n",
    "    return data_filtered\n",
    "    "
   ]
  },
  {
   "cell_type": "markdown",
   "id": "9e46015f",
   "metadata": {},
   "source": [
    "\n"
   ]
  },
  {
   "cell_type": "code",
   "execution_count": null,
   "id": "c6c18a61",
   "metadata": {},
   "outputs": [],
   "source": [
    "data_back_filt = data_filter(data_back, sr, 8, 13)\n",
    "Error in py_call_impl(callable, dots$args, dots$keywords): NameError: name 'data_back' is not defined\n",
    "\n",
    "Detailed traceback:\n",
    "  File \"<string>\", line 1, in <module>\n",
    "(fig, ax) = plot_series(data_back_filt, sr)\n",
    "Error in py_call_impl(callable, dots$args, dots$keywords): NameError: name 'data_back_filt' is not defined\n",
    "\n",
    "Detailed traceback:\n",
    "  File \"<string>\", line 1, in <module>\n",
    "fig.suptitle('Filtered Recording of Background EEG', fontsize=16);\n",
    "Error in py_call_impl(callable, dots$args, dots$keywords): NameError: name 'fig' is not defined\n",
    "\n",
    "Detailed traceback:\n",
    "  File \"<string>\", line 1, in <module>\n",
    "legend(names);\n",
    "Error in py_call_impl(callable, dots$args, dots$keywords): NameError: name 'legend' is not defined\n",
    "\n",
    "Detailed traceback:\n",
    "  File \"<string>\", line 1, in <module>\n",
    "show()\n",
    "Error in py_call_impl(callable, dots$args, dots$keywords): NameError: name 'show' is not defined\n",
    "\n",
    "Detailed traceback:\n",
    "  File \"<string>\", line 1, in <module>"
   ]
  },
  {
   "cell_type": "markdown",
   "id": "30cfa740",
   "metadata": {},
   "source": [
    "<p style='text-align: justify;'>\n",
    "The frequency range from 8 to 13 Hz is referred to as alpha band in the electroencephalogram. It is thought that this represents a kind of idling rhythm of the brain, i.e. an activity where the brain is not activily processing sensory input. \n",
    "</p>"
   ]
  },
  {
   "cell_type": "markdown",
   "id": "36d8dfa8",
   "metadata": {},
   "source": [
    "## __DIY1: Band-pass filtered data__\n",
    "\n",
    "Create figures of the delta (1-4 Hz) band for both the background and the seizure EEG. Note the differences."
   ]
  },
  {
   "cell_type": "markdown",
   "id": "0d1b13dc",
   "metadata": {},
   "source": [
    "## DIY ANSWER\n"
   ]
  },
  {
   "cell_type": "code",
   "execution_count": null,
   "id": "fffedf07",
   "metadata": {
    "lines_to_next_cell": 2
   },
   "outputs": [],
   "source": [
    "data_back_filt = data_filter(data_back, sr, 1, 4)\n",
    "Error in py_call_impl(callable, dots$args, dots$keywords): NameError: name 'data_back' is not defined\n",
    "\n",
    "Detailed traceback:\n",
    "  File \"<string>\", line 1, in <module>\n",
    "(fig, ax) = plot_series(data_back_filt, sr)\n",
    "Error in py_call_impl(callable, dots$args, dots$keywords): NameError: name 'data_back_filt' is not defined\n",
    "\n",
    "Detailed traceback:\n",
    "  File \"<string>\", line 1, in <module>\n",
    "fig.suptitle('Delta Band of Background EEG', fontsize=16);\n",
    "Error in py_call_impl(callable, dots$args, dots$keywords): NameError: name 'fig' is not defined\n",
    "\n",
    "Detailed traceback:\n",
    "  File \"<string>\", line 1, in <module>\n",
    "legend(names);\n",
    "Error in py_call_impl(callable, dots$args, dots$keywords): NameError: name 'legend' is not defined\n",
    "\n",
    "Detailed traceback:\n",
    "  File \"<string>\", line 1, in <module>\n",
    "show()\n",
    "Error in py_call_impl(callable, dots$args, dots$keywords): NameError: name 'show' is not defined\n",
    "\n",
    "Detailed traceback:\n",
    "  File \"<string>\", line 1, in <module>"
   ]
  },
  {
   "cell_type": "code",
   "execution_count": null,
   "id": "09427978",
   "metadata": {
    "lines_to_next_cell": 0
   },
   "outputs": [],
   "source": [
    "data_epil_filt = data_filter(data_epil, sr, 1, 4)\n",
    "Error in py_call_impl(callable, dots$args, dots$keywords): NameError: name 'data_epil' is not defined\n",
    "\n",
    "Detailed traceback:\n",
    "  File \"<string>\", line 1, in <module>\n",
    "(fig, ax) = plot_series(data_epil_filt, sr)\n",
    "Error in py_call_impl(callable, dots$args, dots$keywords): NameError: name 'data_epil_filt' is not defined\n",
    "\n",
    "Detailed traceback:\n",
    "  File \"<string>\", line 1, in <module>\n",
    "fig.suptitle('Delta Band of Seizure EEG', fontsize=16);\n",
    "Error in py_call_impl(callable, dots$args, dots$keywords): NameError: name 'fig' is not defined\n",
    "\n",
    "Detailed traceback:\n",
    "  File \"<string>\", line 1, in <module>\n",
    "legend(names);\n",
    "Error in py_call_impl(callable, dots$args, dots$keywords): NameError: name 'legend' is not defined\n",
    "\n",
    "Detailed traceback:\n",
    "  File \"<string>\", line 1, in <module>\n",
    "show()\n",
    "Error in py_call_impl(callable, dots$args, dots$keywords): NameError: name 'show' is not defined\n",
    "\n",
    "Detailed traceback:\n",
    "  File \"<string>\", line 1, in <module>"
   ]
  },
  {
   "cell_type": "markdown",
   "id": "b01f8d01",
   "metadata": {},
   "source": []
  },
  {
   "cell_type": "markdown",
   "id": "49f24e46",
   "metadata": {},
   "source": [
    "### **Fourier Spectrum**\n",
    "<p style='text-align: justify;'>\n",
    "The Fourier spectrum decomposes the time series into a sum of sine waves. The spectrum gives the coefficients of each of the sine wave components. The coefficients are directly related to the amplitudes needed to optimally fit the sum of all sine waves to recreate the original data. \n",
    "</p>\n",
    "\n",
    "<p style='text-align: justify;'>\n",
    "However, the assumption behind the Fourier transform is that the data are provided as in infinitely long stationary time series. These assumptions are not fullfilled as the data are finite and stationarity of a biological system can typically not be guaranteed. Thus, interpretation needs to be cautious. \n",
    "</p>\n",
    "\n",
    "#### **Fourier Transform of EEG data**\n",
    "\n",
    "We import the Fourier transform function `fft` from __scipy.fftpack__ and can use it to transform all columns at the same time. \n",
    "\n"
   ]
  },
  {
   "cell_type": "code",
   "execution_count": null,
   "id": "997065be",
   "metadata": {},
   "outputs": [],
   "source": [
    "from scipy.fftpack import fft"
   ]
  },
  {
   "cell_type": "markdown",
   "id": "6d150738",
   "metadata": {},
   "source": [
    "```{.error}\n",
    "Error in py_call_impl(callable, dots$args, dots$keywords): ModuleNotFoundError: No module named 'scipy'\n",
    "\n",
    "Detailed traceback:\n",
    "  File \"<string>\", line 1, in <module>\n",
    "  File \"/home/runner/.local/share/renv/cache/v5/R-4.2/x86_64-pc-linux-gnu/reticulate/1.24/ffdf27627a3c1537478073c43b6e7980/reticulate/python/rpytools/loader.py\", line 39, in _import_hook\n",
    "    module = _import(\n",
    "```"
   ]
  },
  {
   "cell_type": "code",
   "execution_count": null,
   "id": "c2a22049",
   "metadata": {},
   "outputs": [],
   "source": [
    "data_back_fft = fft(data_back, axis=0)"
   ]
  },
  {
   "cell_type": "markdown",
   "id": "3d12910e",
   "metadata": {},
   "source": [
    "```{.error}\n",
    "Error in py_call_impl(callable, dots$args, dots$keywords): NameError: name 'fft' is not defined\n",
    "\n",
    "Detailed traceback:\n",
    "  File \"<string>\", line 1, in <module>\n",
    "```\n",
    "\n",
    "To plot the results, a couple of steps are required. \n",
    "<p style='text-align: justify;'>\n",
    "First, we obtain a Fourier spectrum for every data column, so we need to define how many plots we want to have. If we take only columns, we can display them all in one go.\n",
    "</p>\n",
    "<p style='text-align: justify;'>\n",
    "Second, the Fourier transform results in twice the number of complex coefficients (positive and negative) of which we only need the first half. \n",
    "</p>\n",
    "<p style='text-align: justify;'>\n",
    "Third, the Fourier transform outputs complex numbers. To display the 'amplitude' of a frequency (the coefficient corresponding to the amplitude of the sine wave with that frequency) we take the absolute value of the complex numbers. \n",
    "</p>\n"
   ]
  },
  {
   "cell_type": "code",
   "execution_count": null,
   "id": "8b313373",
   "metadata": {},
   "outputs": [],
   "source": [
    "no_win = 2\n",
    "\n",
    "rows = data_back.shape[0]"
   ]
  },
  {
   "cell_type": "markdown",
   "id": "8911e5fb",
   "metadata": {},
   "source": [
    "```{.error}\n",
    "Error in py_call_impl(callable, dots$args, dots$keywords): NameError: name 'data_back' is not defined\n",
    "\n",
    "Detailed traceback:\n",
    "  File \"<string>\", line 1, in <module>\n",
    "```"
   ]
  },
  {
   "cell_type": "code",
   "execution_count": null,
   "id": "b279e08b",
   "metadata": {},
   "outputs": [],
   "source": [
    "freqs = (sr/2)*linspace(0, 1, int(rows/2))"
   ]
  },
  {
   "cell_type": "markdown",
   "id": "ba57821f",
   "metadata": {},
   "source": [
    "```{.error}\n",
    "Error in py_call_impl(callable, dots$args, dots$keywords): NameError: name 'rows' is not defined\n",
    "\n",
    "Detailed traceback:\n",
    "  File \"<string>\", line 1, in <module>\n",
    "```"
   ]
  },
  {
   "cell_type": "code",
   "execution_count": null,
   "id": "b44b8653",
   "metadata": {},
   "outputs": [],
   "source": [
    "amplitudes_back = (2.0 / rows) * abs(data_back_fft[:rows//2, :2])\n"
   ]
  },
  {
   "cell_type": "markdown",
   "id": "a252b4a9",
   "metadata": {},
   "source": [
    "```{.error}\n",
    "Error in py_call_impl(callable, dots$args, dots$keywords): NameError: name 'rows' is not defined\n",
    "\n",
    "Detailed traceback:\n",
    "  File \"<string>\", line 1, in <module>\n",
    "```"
   ]
  },
  {
   "cell_type": "code",
   "execution_count": null,
   "id": "6b6692f6",
   "metadata": {},
   "outputs": [],
   "source": [
    "fig, axes = subplots(figsize=(6, 5), ncols=1, nrows=no_win, sharex=False)"
   ]
  },
  {
   "cell_type": "markdown",
   "id": "044049d7",
   "metadata": {},
   "source": [
    "```{.error}\n",
    "Error in py_call_impl(callable, dots$args, dots$keywords): NameError: name 'subplots' is not defined\n",
    "\n",
    "Detailed traceback:\n",
    "  File \"<string>\", line 1, in <module>\n",
    "```"
   ]
  },
  {
   "cell_type": "code",
   "execution_count": null,
   "id": "64540f4d",
   "metadata": {},
   "outputs": [],
   "source": [
    "names = df_back.columns[:2]"
   ]
  },
  {
   "cell_type": "markdown",
   "id": "ad19ce33",
   "metadata": {},
   "source": [
    "```{.error}\n",
    "Error in py_call_impl(callable, dots$args, dots$keywords): NameError: name 'df_back' is not defined\n",
    "\n",
    "Detailed traceback:\n",
    "  File \"<string>\", line 1, in <module>\n",
    "```"
   ]
  },
  {
   "cell_type": "code",
   "execution_count": null,
   "id": "dd8910bc",
   "metadata": {},
   "outputs": [],
   "source": [
    "for index, ax in enumerate(axes.flat):\n",
    "    axes[index].plot(freqs, amplitudes_back[:, index])\n",
    "    axes[index].set_xlim(0, 8)\n",
    "    axes[index].set(ylabel=f'Amplitude {names[index]}')"
   ]
  },
  {
   "cell_type": "markdown",
   "id": "d1ce6a49",
   "metadata": {},
   "source": [
    "```{.error}\n",
    "Error in py_call_impl(callable, dots$args, dots$keywords): NameError: name 'axes' is not defined\n",
    "\n",
    "Detailed traceback:\n",
    "  File \"<string>\", line 1, in <module>\n",
    "```"
   ]
  },
  {
   "cell_type": "code",
   "execution_count": null,
   "id": "673af49d",
   "metadata": {},
   "outputs": [],
   "source": [
    "axes[index].set(xlabel='Frequency (Hz)');"
   ]
  },
  {
   "cell_type": "markdown",
   "id": "29e34cf1",
   "metadata": {},
   "source": [
    "```{.error}\n",
    "Error in py_call_impl(callable, dots$args, dots$keywords): NameError: name 'axes' is not defined\n",
    "\n",
    "Detailed traceback:\n",
    "  File \"<string>\", line 1, in <module>\n",
    "```"
   ]
  },
  {
   "cell_type": "code",
   "execution_count": null,
   "id": "67102f1b",
   "metadata": {},
   "outputs": [],
   "source": [
    "show()"
   ]
  },
  {
   "cell_type": "markdown",
   "id": "54043c85",
   "metadata": {},
   "source": [
    "```{.error}\n",
    "Error in py_call_impl(callable, dots$args, dots$keywords): NameError: name 'show' is not defined\n",
    "\n",
    "Detailed traceback:\n",
    "  File \"<string>\", line 1, in <module>\n",
    "```\n",
    "\n",
    "We can see that in these two channels, the main amplitude contributions lie in the low frequencies, below 2 Hz. \n",
    "\n",
    "Let us compare the corresponding figure for the case of seizure activity:\n",
    "\n"
   ]
  },
  {
   "cell_type": "code",
   "execution_count": null,
   "id": "6b2838e3",
   "metadata": {},
   "outputs": [],
   "source": [
    "data_epil_fft = fft(data_epil, axis=0)"
   ]
  },
  {
   "cell_type": "markdown",
   "id": "af72862c",
   "metadata": {},
   "source": [
    "```{.error}\n",
    "Error in py_call_impl(callable, dots$args, dots$keywords): NameError: name 'fft' is not defined\n",
    "\n",
    "Detailed traceback:\n",
    "  File \"<string>\", line 1, in <module>\n",
    "```\n"
   ]
  },
  {
   "cell_type": "code",
   "execution_count": null,
   "id": "ae2059eb",
   "metadata": {},
   "outputs": [],
   "source": [
    "fig, axes = subplots(figsize=(6, 5), ncols=1, nrows=no_win, sharex=False)"
   ]
  },
  {
   "cell_type": "markdown",
   "id": "9e5bc6b9",
   "metadata": {},
   "source": [
    "```{.error}\n",
    "Error in py_call_impl(callable, dots$args, dots$keywords): NameError: name 'subplots' is not defined\n",
    "\n",
    "Detailed traceback:\n",
    "  File \"<string>\", line 1, in <module>\n",
    "```"
   ]
  },
  {
   "cell_type": "code",
   "execution_count": null,
   "id": "9db706e9",
   "metadata": {},
   "outputs": [],
   "source": [
    "names = df_epil.columns[:2]"
   ]
  },
  {
   "cell_type": "markdown",
   "id": "b33b9c82",
   "metadata": {},
   "source": [
    "```{.error}\n",
    "Error in py_call_impl(callable, dots$args, dots$keywords): NameError: name 'df_epil' is not defined\n",
    "\n",
    "Detailed traceback:\n",
    "  File \"<string>\", line 1, in <module>\n",
    "```"
   ]
  },
  {
   "cell_type": "code",
   "execution_count": null,
   "id": "9de67176",
   "metadata": {},
   "outputs": [],
   "source": [
    "amplitudes_epil = (2.0 / rows) * abs(data_epil_fft[:rows//2, :2])"
   ]
  },
  {
   "cell_type": "markdown",
   "id": "76015815",
   "metadata": {},
   "source": [
    "```{.error}\n",
    "Error in py_call_impl(callable, dots$args, dots$keywords): NameError: name 'rows' is not defined\n",
    "\n",
    "Detailed traceback:\n",
    "  File \"<string>\", line 1, in <module>\n",
    "```"
   ]
  },
  {
   "cell_type": "code",
   "execution_count": null,
   "id": "7c8e7dda",
   "metadata": {},
   "outputs": [],
   "source": [
    "for index, ax in enumerate(axes.flat):\n",
    "    axes[index].plot(freqs, amplitudes_epil[:, index])\n",
    "    axes[index].set_xlim(0, 12)\n",
    "    axes[index].set(ylabel=f'Amplitude {names[index]}')"
   ]
  },
  {
   "cell_type": "markdown",
   "id": "9d120359",
   "metadata": {},
   "source": [
    "```{.error}\n",
    "Error in py_call_impl(callable, dots$args, dots$keywords): NameError: name 'axes' is not defined\n",
    "\n",
    "Detailed traceback:\n",
    "  File \"<string>\", line 1, in <module>\n",
    "```"
   ]
  },
  {
   "cell_type": "code",
   "execution_count": null,
   "id": "5f517706",
   "metadata": {},
   "outputs": [],
   "source": [
    "axes[index].set(xlabel='Frequency (Hz)');"
   ]
  },
  {
   "cell_type": "markdown",
   "id": "f3f3cfce",
   "metadata": {},
   "source": [
    "```{.error}\n",
    "Error in py_call_impl(callable, dots$args, dots$keywords): NameError: name 'axes' is not defined\n",
    "\n",
    "Detailed traceback:\n",
    "  File \"<string>\", line 1, in <module>\n",
    "```"
   ]
  },
  {
   "cell_type": "code",
   "execution_count": null,
   "id": "56e882a4",
   "metadata": {},
   "outputs": [],
   "source": [
    "show()"
   ]
  },
  {
   "cell_type": "markdown",
   "id": "246cab35",
   "metadata": {},
   "source": [
    "```{.error}\n",
    "Error in py_call_impl(callable, dots$args, dots$keywords): NameError: name 'show' is not defined\n",
    "\n",
    "Detailed traceback:\n",
    "  File \"<string>\", line 1, in <module>\n",
    "```\n",
    "\n",
    "The main frequency of the epileptic rhythm is between 2 and 3 Hz. \n",
    "<p style='text-align: justify;'>\n",
    "As we can see above in the Fourier spectra above, the amplitudes are high for low frequencies and tend to decrease with increasing frequency. Sometimes it is useful to see the high frequencies enhanced. This can be achieved with a logarithmic plot of the powers.\n",
    "</p>\n"
   ]
  },
  {
   "cell_type": "code",
   "execution_count": null,
   "id": "abcc9c54",
   "metadata": {},
   "outputs": [],
   "source": [
    "fig, axes = subplots(figsize=(6, 6), ncols=1, nrows=no_win, sharex=False)\n",
    "                    "
   ]
  },
  {
   "cell_type": "markdown",
   "id": "90ffebe0",
   "metadata": {},
   "source": [
    "```{.error}\n",
    "Error in py_call_impl(callable, dots$args, dots$keywords): NameError: name 'subplots' is not defined\n",
    "\n",
    "Detailed traceback:\n",
    "  File \"<string>\", line 1, in <module>\n",
    "```"
   ]
  },
  {
   "cell_type": "code",
   "execution_count": null,
   "id": "3ffde9c9",
   "metadata": {},
   "outputs": [],
   "source": [
    "for index, ax in enumerate(axes.flat):\n",
    "\n",
    "    axes[index].plot(freqs, amplitudes_back[:, index])\n",
    "    axes[index].set_xlim(0, 30)\n",
    "    axes[index].set(ylabel=f'Amplitude {names[index]}')\n",
    "    axes[index].set_yscale('log')"
   ]
  },
  {
   "cell_type": "markdown",
   "id": "1f7a15e5",
   "metadata": {},
   "source": [
    "```{.error}\n",
    "Error in py_call_impl(callable, dots$args, dots$keywords): NameError: name 'axes' is not defined\n",
    "\n",
    "Detailed traceback:\n",
    "  File \"<string>\", line 1, in <module>\n",
    "```"
   ]
  },
  {
   "cell_type": "code",
   "execution_count": null,
   "id": "e45b61e2",
   "metadata": {},
   "outputs": [],
   "source": [
    "axes[no_win-1].set(xlabel='Frequency (Hz)');"
   ]
  },
  {
   "cell_type": "markdown",
   "id": "d994abc7",
   "metadata": {},
   "source": [
    "```{.error}\n",
    "Error in py_call_impl(callable, dots$args, dots$keywords): NameError: name 'axes' is not defined\n",
    "\n",
    "Detailed traceback:\n",
    "  File \"<string>\", line 1, in <module>\n",
    "```"
   ]
  },
  {
   "cell_type": "code",
   "execution_count": null,
   "id": "b640ddec",
   "metadata": {},
   "outputs": [],
   "source": [
    "fig.suptitle('Logarithmic Fourier Spectra of Background EEG', fontsize=16);"
   ]
  },
  {
   "cell_type": "markdown",
   "id": "0712ac3f",
   "metadata": {},
   "source": [
    "```{.error}\n",
    "Error in py_call_impl(callable, dots$args, dots$keywords): NameError: name 'fig' is not defined\n",
    "\n",
    "Detailed traceback:\n",
    "  File \"<string>\", line 1, in <module>\n",
    "```"
   ]
  },
  {
   "cell_type": "code",
   "execution_count": null,
   "id": "a0e15f14",
   "metadata": {},
   "outputs": [],
   "source": [
    "show()"
   ]
  },
  {
   "cell_type": "markdown",
   "id": "f7cb9d54",
   "metadata": {},
   "source": [
    "```{.error}\n",
    "Error in py_call_impl(callable, dots$args, dots$keywords): NameError: name 'show' is not defined\n",
    "\n",
    "Detailed traceback:\n",
    "  File \"<string>\", line 1, in <module>\n",
    "```\n",
    "\n",
    "And for the seizure data:\n"
   ]
  },
  {
   "cell_type": "code",
   "execution_count": null,
   "id": "0edfbc09",
   "metadata": {},
   "outputs": [],
   "source": [
    "\n",
    "fig, axes = subplots(figsize=(6, 10), ncols=1, nrows=no_win, sharex=False)\n",
    "                    "
   ]
  },
  {
   "cell_type": "markdown",
   "id": "dd467ee9",
   "metadata": {},
   "source": [
    "```{.error}\n",
    "Error in py_call_impl(callable, dots$args, dots$keywords): NameError: name 'subplots' is not defined\n",
    "\n",
    "Detailed traceback:\n",
    "  File \"<string>\", line 1, in <module>\n",
    "```"
   ]
  },
  {
   "cell_type": "code",
   "execution_count": null,
   "id": "ccd39390",
   "metadata": {},
   "outputs": [],
   "source": [
    "for index, ax in enumerate(axes.flat):\n",
    "\n",
    "    axes[index].plot(freqs, amplitudes_epil[:, index])\n",
    "    axes[index].set_xlim(0, 30)\n",
    "    axes[index].set(ylabel=f'Power {names[index]}')\n",
    "    axes[index].set_yscale('log')"
   ]
  },
  {
   "cell_type": "markdown",
   "id": "58ea79fd",
   "metadata": {},
   "source": [
    "```{.error}\n",
    "Error in py_call_impl(callable, dots$args, dots$keywords): NameError: name 'axes' is not defined\n",
    "\n",
    "Detailed traceback:\n",
    "  File \"<string>\", line 1, in <module>\n",
    "```"
   ]
  },
  {
   "cell_type": "code",
   "execution_count": null,
   "id": "d94e77ec",
   "metadata": {},
   "outputs": [],
   "source": [
    "axes[no_win-1].set(xlabel='Frequency (Hz)');"
   ]
  },
  {
   "cell_type": "markdown",
   "id": "23793b6f",
   "metadata": {},
   "source": [
    "```{.error}\n",
    "Error in py_call_impl(callable, dots$args, dots$keywords): NameError: name 'axes' is not defined\n",
    "\n",
    "Detailed traceback:\n",
    "  File \"<string>\", line 1, in <module>\n",
    "```"
   ]
  },
  {
   "cell_type": "code",
   "execution_count": null,
   "id": "7f440f08",
   "metadata": {},
   "outputs": [],
   "source": [
    "fig.suptitle('Logarithmic Fourier Spectra of Seizure EEG', fontsize=16);"
   ]
  },
  {
   "cell_type": "markdown",
   "id": "3c3377ce",
   "metadata": {},
   "source": [
    "```{.error}\n",
    "Error in py_call_impl(callable, dots$args, dots$keywords): NameError: name 'fig' is not defined\n",
    "\n",
    "Detailed traceback:\n",
    "  File \"<string>\", line 1, in <module>\n",
    "```"
   ]
  },
  {
   "cell_type": "code",
   "execution_count": null,
   "id": "509669a1",
   "metadata": {},
   "outputs": [],
   "source": [
    "show()"
   ]
  },
  {
   "cell_type": "markdown",
   "id": "1b1b5de9",
   "metadata": {},
   "source": [
    "```{.error}\n",
    "Error in py_call_impl(callable, dots$args, dots$keywords): NameError: name 'show' is not defined\n",
    "\n",
    "Detailed traceback:\n",
    "  File \"<string>\", line 1, in <module>\n",
    "```\n",
    "<p style='text-align: justify;'>\n",
    "In the spectrum of the absence data, it is now more obvious that there are further maxima at 6, 9, 12, and perhaps 15Hz. These are integer multiples or 'harmonics' of the basic frequency at around 3Hz, also referred to as the fundamental frequency.\n",
    "</p>\n",
    "<p style='text-align: justify;'>\n",
    "A feature that can be used as a summary statistic, is to caclulate the __band power__ for each channel. The band power can be obtained as the sum of all powers within a specified range of frequencies, also called the 'band'. The band power thus represents a single number. \n",
    "</p>"
   ]
  },
  {
   "cell_type": "markdown",
   "id": "702f9167",
   "metadata": {},
   "source": [
    "## __DIY2: Fourier spectra of filtered data__\n",
    "\n",
    "Calculate and display the Fourier spectra of the first two channels filtered between 4 and 12 Hz for the absence seizure data. Can you find harmonics?\n",
    "\t"
   ]
  },
  {
   "cell_type": "code",
   "execution_count": null,
   "id": "a0d1270e",
   "metadata": {},
   "outputs": [],
   "source": [
    "data_epil_filt = data_filter(data_epil, sr, 4, 12)"
   ]
  },
  {
   "cell_type": "markdown",
   "id": "b3973abb",
   "metadata": {},
   "source": [
    "```{.error}\n",
    "Error in py_call_impl(callable, dots$args, dots$keywords): NameError: name 'data_epil' is not defined\n",
    "\n",
    "Detailed traceback:\n",
    "  File \"<string>\", line 1, in <module>\n",
    "```"
   ]
  },
  {
   "cell_type": "code",
   "execution_count": null,
   "id": "703bf706",
   "metadata": {},
   "outputs": [],
   "source": [
    "data_epil_fft = fft(data_epil_filt, axis=0)"
   ]
  },
  {
   "cell_type": "markdown",
   "id": "945d72aa",
   "metadata": {},
   "source": [
    "```{.error}\n",
    "Error in py_call_impl(callable, dots$args, dots$keywords): NameError: name 'fft' is not defined\n",
    "\n",
    "Detailed traceback:\n",
    "  File \"<string>\", line 1, in <module>\n",
    "```"
   ]
  },
  {
   "cell_type": "code",
   "execution_count": null,
   "id": "10bc124f",
   "metadata": {},
   "outputs": [],
   "source": [
    "rows = data_epil.shape[0]"
   ]
  },
  {
   "cell_type": "markdown",
   "id": "e7fad8b0",
   "metadata": {},
   "source": [
    "```{.error}\n",
    "Error in py_call_impl(callable, dots$args, dots$keywords): NameError: name 'data_epil' is not defined\n",
    "\n",
    "Detailed traceback:\n",
    "  File \"<string>\", line 1, in <module>\n",
    "```"
   ]
  },
  {
   "cell_type": "code",
   "execution_count": null,
   "id": "994863b4",
   "metadata": {},
   "outputs": [],
   "source": [
    "freqs = (sr/2)*linspace(0, 1, int(rows/2))"
   ]
  },
  {
   "cell_type": "markdown",
   "id": "6b1063fd",
   "metadata": {},
   "source": [
    "```{.error}\n",
    "Error in py_call_impl(callable, dots$args, dots$keywords): NameError: name 'rows' is not defined\n",
    "\n",
    "Detailed traceback:\n",
    "  File \"<string>\", line 1, in <module>\n",
    "```"
   ]
  },
  {
   "cell_type": "code",
   "execution_count": null,
   "id": "fd1971df",
   "metadata": {},
   "outputs": [],
   "source": [
    "amplitudes_epil = (2.0 / rows) * abs(data_epil_fft[:rows//2, :no_win])"
   ]
  },
  {
   "cell_type": "markdown",
   "id": "d8c5fb21",
   "metadata": {},
   "source": [
    "```{.error}\n",
    "Error in py_call_impl(callable, dots$args, dots$keywords): NameError: name 'rows' is not defined\n",
    "\n",
    "Detailed traceback:\n",
    "  File \"<string>\", line 1, in <module>\n",
    "```"
   ]
  },
  {
   "cell_type": "code",
   "execution_count": null,
   "id": "3b9ccaab",
   "metadata": {},
   "outputs": [],
   "source": [
    "fig, axes = subplots(figsize=(6, 10), ncols=1, nrows=no_win, sharex=False)"
   ]
  },
  {
   "cell_type": "markdown",
   "id": "a01c0006",
   "metadata": {},
   "source": [
    "```{.error}\n",
    "Error in py_call_impl(callable, dots$args, dots$keywords): NameError: name 'subplots' is not defined\n",
    "\n",
    "Detailed traceback:\n",
    "  File \"<string>\", line 1, in <module>\n",
    "```"
   ]
  },
  {
   "cell_type": "code",
   "execution_count": null,
   "id": "28e9ce87",
   "metadata": {},
   "outputs": [],
   "source": [
    "for index, ax in enumerate(axes.flat):\n",
    "    axes[index].plot(freqs, amplitudes_epil[:, index])\n",
    "    axes[index].set_xlim(0, 12)\n",
    "    axes[index].set(ylabel=f'Amplitudes {names[index]}')"
   ]
  },
  {
   "cell_type": "markdown",
   "id": "278a0963",
   "metadata": {},
   "source": [
    "```{.error}\n",
    "Error in py_call_impl(callable, dots$args, dots$keywords): NameError: name 'axes' is not defined\n",
    "\n",
    "Detailed traceback:\n",
    "  File \"<string>\", line 1, in <module>\n",
    "```"
   ]
  },
  {
   "cell_type": "code",
   "execution_count": null,
   "id": "b50c1592",
   "metadata": {},
   "outputs": [],
   "source": [
    "axes[no_win-1].set(xlabel='Frequency (Hz)');"
   ]
  },
  {
   "cell_type": "markdown",
   "id": "a41476cc",
   "metadata": {},
   "source": [
    "```{.error}\n",
    "Error in py_call_impl(callable, dots$args, dots$keywords): NameError: name 'axes' is not defined\n",
    "\n",
    "Detailed traceback:\n",
    "  File \"<string>\", line 1, in <module>\n",
    "```"
   ]
  },
  {
   "cell_type": "code",
   "execution_count": null,
   "id": "623e0dbd",
   "metadata": {},
   "outputs": [],
   "source": [
    "fig.suptitle('Fourier Spectra of Seizure EEG', fontsize=16);"
   ]
  },
  {
   "cell_type": "markdown",
   "id": "034689b6",
   "metadata": {},
   "source": [
    "```{.error}\n",
    "Error in py_call_impl(callable, dots$args, dots$keywords): NameError: name 'fig' is not defined\n",
    "\n",
    "Detailed traceback:\n",
    "  File \"<string>\", line 1, in <module>\n",
    "```"
   ]
  },
  {
   "cell_type": "code",
   "execution_count": null,
   "id": "8155eef8",
   "metadata": {},
   "outputs": [],
   "source": [
    "show()"
   ]
  },
  {
   "cell_type": "markdown",
   "id": "372f5bc6",
   "metadata": {},
   "source": [
    "```{.error}\n",
    "Error in py_call_impl(callable, dots$args, dots$keywords): NameError: name 'show' is not defined\n",
    "\n",
    "Detailed traceback:\n",
    "  File \"<string>\", line 1, in <module>\n",
    "```\n"
   ]
  },
  {
   "cell_type": "markdown",
   "id": "611eddb4",
   "metadata": {},
   "source": [
    "### **Cross-Correlation Matrix**\n",
    "As one example of a multivariate analysis of time series data, we can calculate the cross-correlation matrix. \n",
    "\n",
    "Here it is done for the background:\n"
   ]
  },
  {
   "cell_type": "code",
   "execution_count": null,
   "id": "b6340693",
   "metadata": {},
   "outputs": [],
   "source": [
    "corr_matrix_back = corrcoef(data_back, rowvar=False)"
   ]
  },
  {
   "cell_type": "markdown",
   "id": "c1d6d1d7",
   "metadata": {},
   "source": [
    "```{.error}\n",
    "Error in py_call_impl(callable, dots$args, dots$keywords): NameError: name 'data_back' is not defined\n",
    "\n",
    "Detailed traceback:\n",
    "  File \"<string>\", line 1, in <module>\n",
    "```"
   ]
  },
  {
   "cell_type": "code",
   "execution_count": null,
   "id": "8715fa72",
   "metadata": {},
   "outputs": [],
   "source": [
    "fill_diagonal(corr_matrix_back, 0)"
   ]
  },
  {
   "cell_type": "markdown",
   "id": "98e27bd4",
   "metadata": {},
   "source": [
    "```{.error}\n",
    "Error in py_call_impl(callable, dots$args, dots$keywords): NameError: name 'corr_matrix_back' is not defined\n",
    "\n",
    "Detailed traceback:\n",
    "  File \"<string>\", line 1, in <module>\n",
    "```"
   ]
  },
  {
   "cell_type": "code",
   "execution_count": null,
   "id": "91a2468a",
   "metadata": {},
   "outputs": [],
   "source": [
    "fig, ax = subplots(figsize = (8,8))"
   ]
  },
  {
   "cell_type": "markdown",
   "id": "2a1360cd",
   "metadata": {},
   "source": [
    "```{.error}\n",
    "Error in py_call_impl(callable, dots$args, dots$keywords): NameError: name 'subplots' is not defined\n",
    "\n",
    "Detailed traceback:\n",
    "  File \"<string>\", line 1, in <module>\n",
    "```"
   ]
  },
  {
   "cell_type": "code",
   "execution_count": null,
   "id": "60efb8d8",
   "metadata": {},
   "outputs": [],
   "source": [
    "im = ax.imshow(corr_matrix_back, cmap='coolwarm');"
   ]
  },
  {
   "cell_type": "markdown",
   "id": "0e150a29",
   "metadata": {},
   "source": [
    "```{.error}\n",
    "Error in py_call_impl(callable, dots$args, dots$keywords): NameError: name 'ax' is not defined\n",
    "\n",
    "Detailed traceback:\n",
    "  File \"<string>\", line 1, in <module>\n",
    "```"
   ]
  },
  {
   "cell_type": "code",
   "execution_count": null,
   "id": "43ba36b7",
   "metadata": {},
   "outputs": [],
   "source": [
    "fig.colorbar(im, orientation='horizontal', shrink=0.68);"
   ]
  },
  {
   "cell_type": "markdown",
   "id": "1b32897e",
   "metadata": {},
   "source": [
    "```{.error}\n",
    "Error in py_call_impl(callable, dots$args, dots$keywords): NameError: name 'fig' is not defined\n",
    "\n",
    "Detailed traceback:\n",
    "  File \"<string>\", line 1, in <module>\n",
    "```"
   ]
  },
  {
   "cell_type": "code",
   "execution_count": null,
   "id": "3484409f",
   "metadata": {},
   "outputs": [],
   "source": [
    "show()"
   ]
  },
  {
   "cell_type": "markdown",
   "id": "92d2f8f8",
   "metadata": {},
   "source": [
    "```{.error}\n",
    "Error in py_call_impl(callable, dots$args, dots$keywords): NameError: name 'show' is not defined\n",
    "\n",
    "Detailed traceback:\n",
    "  File \"<string>\", line 1, in <module>\n",
    "```\n",
    "\n",
    "<p style='text-align: justify;'>\n",
    "The diagonal is set to zero. This is done to improve the visual display. If left to one, the diagonal tends to dominate the visual impression even though it is trivial and nothing can be learned from it.\n",
    "</p>\n",
    "\n",
    "Looking at the non-diagonal elements, we find:\n",
    "\n",
    "- two strongly correlated series (indices 5 and 7)\n",
    "\n",
    "- two strongly anti-correlated series (indices 3 and 4)\n",
    "\n",
    "- a block of pronounced correlations between series with indices 4 through 9)"
   ]
  },
  {
   "cell_type": "markdown",
   "id": "bfe89f08",
   "metadata": {},
   "source": [
    "## __DIY3: Display the correlation matrix for the seizure data__\n",
    "\n",
    "Calculate the correlation matrix for the seizure data and compare the correlation pattern to the one from the background data."
   ]
  },
  {
   "cell_type": "markdown",
   "id": "9959c3f8",
   "metadata": {},
   "source": [
    "## DIY ANSWER\n"
   ]
  },
  {
   "cell_type": "code",
   "execution_count": null,
   "id": "0dfd822a",
   "metadata": {},
   "outputs": [],
   "source": [
    "corr_matrix_epil = corrcoef(data_epil, rowvar=False)"
   ]
  },
  {
   "cell_type": "markdown",
   "id": "17d2fabe",
   "metadata": {},
   "source": [
    "```{.error}\n",
    "Error in py_call_impl(callable, dots$args, dots$keywords): NameError: name 'data_epil' is not defined\n",
    "\n",
    "Detailed traceback:\n",
    "  File \"<string>\", line 1, in <module>\n",
    "```"
   ]
  },
  {
   "cell_type": "code",
   "execution_count": null,
   "id": "efceba5b",
   "metadata": {},
   "outputs": [],
   "source": [
    "fill_diagonal(corr_matrix_epil, 0)"
   ]
  },
  {
   "cell_type": "markdown",
   "id": "b71194c9",
   "metadata": {},
   "source": [
    "```{.error}\n",
    "Error in py_call_impl(callable, dots$args, dots$keywords): NameError: name 'corr_matrix_epil' is not defined\n",
    "\n",
    "Detailed traceback:\n",
    "  File \"<string>\", line 1, in <module>\n",
    "```"
   ]
  },
  {
   "cell_type": "code",
   "execution_count": null,
   "id": "239f72b0",
   "metadata": {},
   "outputs": [],
   "source": [
    "fig, ax = subplots(figsize = (8,8))"
   ]
  },
  {
   "cell_type": "markdown",
   "id": "f842e01f",
   "metadata": {},
   "source": [
    "```{.error}\n",
    "Error in py_call_impl(callable, dots$args, dots$keywords): NameError: name 'subplots' is not defined\n",
    "\n",
    "Detailed traceback:\n",
    "  File \"<string>\", line 1, in <module>\n",
    "```"
   ]
  },
  {
   "cell_type": "code",
   "execution_count": null,
   "id": "ef839cb1",
   "metadata": {},
   "outputs": [],
   "source": [
    "im = ax.imshow(corr_matrix_epil, cmap='coolwarm');"
   ]
  },
  {
   "cell_type": "markdown",
   "id": "138ff36f",
   "metadata": {},
   "source": [
    "```{.error}\n",
    "Error in py_call_impl(callable, dots$args, dots$keywords): NameError: name 'ax' is not defined\n",
    "\n",
    "Detailed traceback:\n",
    "  File \"<string>\", line 1, in <module>\n",
    "```"
   ]
  },
  {
   "cell_type": "code",
   "execution_count": null,
   "id": "8ad22d69",
   "metadata": {},
   "outputs": [],
   "source": [
    "fig.colorbar(im, orientation='horizontal', shrink=0.68);"
   ]
  },
  {
   "cell_type": "markdown",
   "id": "ff4e6c1e",
   "metadata": {},
   "source": [
    "```{.error}\n",
    "Error in py_call_impl(callable, dots$args, dots$keywords): NameError: name 'fig' is not defined\n",
    "\n",
    "Detailed traceback:\n",
    "  File \"<string>\", line 1, in <module>\n",
    "```"
   ]
  },
  {
   "cell_type": "code",
   "execution_count": null,
   "id": "993c4e22",
   "metadata": {},
   "outputs": [],
   "source": [
    "show()"
   ]
  },
  {
   "cell_type": "markdown",
   "id": "20116183",
   "metadata": {},
   "source": [
    "```{.error}\n",
    "Error in py_call_impl(callable, dots$args, dots$keywords): NameError: name 'show' is not defined\n",
    "\n",
    "Detailed traceback:\n",
    "  File \"<string>\", line 1, in <module>\n",
    "```\n",
    "\n",
    "<p style='text-align: justify;'>\n",
    "We find - a number of pairs of strongly correlated series - two strongly anti-correlated series (in- dices 3 and 4) - a block of pronounced correlations between series with indices 4 through 9).\n",
    "</p>\n",
    "<p style='text-align: justify;'>\n",
    "So interestingly, while the time series changes dramatically in shape, the correlation pattern still shows some qualitative resemblance.\n",
    "</p>\n"
   ]
  },
  {
   "cell_type": "markdown",
   "id": "fff05878",
   "metadata": {},
   "source": [
    "<p style='text-align: justify;'> \n",
    "All results shown so far, represent the recording of the segment of 6 seconds chosen at the beginning. The human brain produces time-dependent voltage changes 24 hours a day and as seeing only a few seconds is only a partial view. The next step to investigate is to show how the features found for one segment vary over time. \n",
    "</p>\n",
    "\n",
    "## Exercises"
   ]
  },
  {
   "cell_type": "markdown",
   "id": "2e57271a",
   "metadata": {},
   "source": [
    "#### End of chapter Exercises\n",
    "\n",
    "**Pathological Human Brain Rhythms**\n",
    "<p style='text-align: justify;'>\n",
    "Look at the image of brain activity from a child at the start of an epileptic seizure. It shows 4 seconds of evolution of the first 10 channels of a seizure rhythm at sampling rate sr=1024.\n",
    "</p>\n",
    "\n"
   ]
  },
  {
   "cell_type": "code",
   "execution_count": null,
   "id": "3c89e14d",
   "metadata": {},
   "outputs": [],
   "source": [
    "path = 'data/P1_Seizure1.csv'\n",
    "\n",
    "data = read_csv(path, delimiter=r\"\\s+\")"
   ]
  },
  {
   "cell_type": "markdown",
   "id": "de08c3f8",
   "metadata": {},
   "source": [
    "```{.error}\n",
    "Error in py_call_impl(callable, dots$args, dots$keywords): NameError: name 'read_csv' is not defined\n",
    "\n",
    "Detailed traceback:\n",
    "  File \"<string>\", line 1, in <module>\n",
    "```"
   ]
  },
  {
   "cell_type": "code",
   "execution_count": null,
   "id": "204bf34b",
   "metadata": {},
   "outputs": [],
   "source": [
    "data_P1 = data.to_numpy()"
   ]
  },
  {
   "cell_type": "markdown",
   "id": "0ab7fa48",
   "metadata": {},
   "source": [
    "```{.error}\n",
    "Error in py_call_impl(callable, dots$args, dots$keywords): NameError: name 'data' is not defined\n",
    "\n",
    "Detailed traceback:\n",
    "  File \"<string>\", line 1, in <module>\n",
    "```"
   ]
  },
  {
   "cell_type": "code",
   "execution_count": null,
   "id": "6be64cb8",
   "metadata": {},
   "outputs": [],
   "source": [
    "sr = 1024\n",
    "\n",
    "period = 4\n",
    "\n",
    "channels = 10\n",
    "\n",
    "plot_series(data_P1[:sr*period, :channels], sr);"
   ]
  },
  {
   "cell_type": "markdown",
   "id": "d01d54d0",
   "metadata": {},
   "source": [
    "```{.error}\n",
    "Error in py_call_impl(callable, dots$args, dots$keywords): NameError: name 'data_P1' is not defined\n",
    "\n",
    "Detailed traceback:\n",
    "  File \"<string>\", line 1, in <module>\n",
    "```"
   ]
  },
  {
   "cell_type": "code",
   "execution_count": null,
   "id": "250aae9a",
   "metadata": {},
   "outputs": [],
   "source": [
    "show()"
   ]
  },
  {
   "cell_type": "markdown",
   "id": "16206cea",
   "metadata": {},
   "source": [
    "```{.error}\n",
    "Error in py_call_impl(callable, dots$args, dots$keywords): NameError: name 'show' is not defined\n",
    "\n",
    "Detailed traceback:\n",
    "  File \"<string>\", line 1, in <module>\n",
    "```\n",
    "\n",
    "Using the code from this lesson, import the data from the file `P1_Seizure1.csv` and generate an overview of uni- and multivariate features in the following form:"
   ]
  },
  {
   "cell_type": "markdown",
   "id": "dfa07a35",
   "metadata": {},
   "source": [
    "1. Pick the first two seconds of the recording as background, the last two second as epileptic seizure rhythm. Use the first ten channels in both cases. Data should have the shape (2048, 10).\n",
    "\n",
    "2. Filter the data to get rid of frequencies below 1 Hz and frequencies faster than 20 Hz. \n",
    "\n",
    "3. Plot time series of both.\n",
    "\n",
    "4. Fourier transform both filtered data sets and display the Fourier spectra of the first 4 channels. What are the strongest frequencies in the two sets?\n",
    "\n",
    "5. Plot the correlation matrices of both data sets. Which challes show the strongest change in correlations?"
   ]
  },
  {
   "cell_type": "markdown",
   "id": "54619467",
   "metadata": {},
   "source": [
    "## Please check these solutions only after submitting the assignments.\n"
   ]
  },
  {
   "cell_type": "code",
   "execution_count": null,
   "id": "6cc311ba",
   "metadata": {},
   "outputs": [],
   "source": [
    "from pandas import read_csv"
   ]
  },
  {
   "cell_type": "markdown",
   "id": "d860b0bf",
   "metadata": {},
   "source": [
    "```{.error}\n",
    "Error in py_call_impl(callable, dots$args, dots$keywords): ModuleNotFoundError: No module named 'pandas'\n",
    "\n",
    "Detailed traceback:\n",
    "  File \"<string>\", line 1, in <module>\n",
    "  File \"/home/runner/.local/share/renv/cache/v5/R-4.2/x86_64-pc-linux-gnu/reticulate/1.24/ffdf27627a3c1537478073c43b6e7980/reticulate/python/rpytools/loader.py\", line 39, in _import_hook\n",
    "    module = _import(\n",
    "```"
   ]
  },
  {
   "cell_type": "code",
   "execution_count": null,
   "id": "92c8e5b4",
   "metadata": {},
   "outputs": [],
   "source": [
    "from numpy import arange, zeros, linspace, sin, pi, c_, mean, var, array\n",
    "\n",
    "from numpy import correlate, corrcoef, fill_diagonal, amin, amax, asarray\n",
    "\n",
    "from numpy import around, triu_indices\n",
    "\n",
    "from numpy.ma import masked_less, masked_greater\n",
    "\n",
    "from scipy.fftpack import fft"
   ]
  },
  {
   "cell_type": "markdown",
   "id": "2d020c66",
   "metadata": {},
   "source": [
    "```{.error}\n",
    "Error in py_call_impl(callable, dots$args, dots$keywords): ModuleNotFoundError: No module named 'scipy'\n",
    "\n",
    "Detailed traceback:\n",
    "  File \"<string>\", line 1, in <module>\n",
    "  File \"/home/runner/.local/share/renv/cache/v5/R-4.2/x86_64-pc-linux-gnu/reticulate/1.24/ffdf27627a3c1537478073c43b6e7980/reticulate/python/rpytools/loader.py\", line 39, in _import_hook\n",
    "    module = _import(\n",
    "```"
   ]
  },
  {
   "cell_type": "code",
   "execution_count": null,
   "id": "ec7c17b7",
   "metadata": {},
   "outputs": [],
   "source": [
    "from matplotlib.pyplot import subplots, yticks, legend, axis, figure, show"
   ]
  },
  {
   "cell_type": "markdown",
   "id": "59decd7c",
   "metadata": {},
   "source": [
    "```{.error}\n",
    "Error in py_call_impl(callable, dots$args, dots$keywords): ModuleNotFoundError: No module named 'matplotlib'\n",
    "\n",
    "Detailed traceback:\n",
    "  File \"<string>\", line 1, in <module>\n",
    "  File \"/home/runner/.local/share/renv/cache/v5/R-4.2/x86_64-pc-linux-gnu/reticulate/1.24/ffdf27627a3c1537478073c43b6e7980/reticulate/python/rpytools/loader.py\", line 39, in _import_hook\n",
    "    module = _import(\n",
    "```\n",
    "### Q1\n",
    "### Extract data for first and last two seconds"
   ]
  },
  {
   "cell_type": "code",
   "execution_count": null,
   "id": "a349c170",
   "metadata": {},
   "outputs": [],
   "source": [
    "sr = 1024\n",
    "\n",
    "duration = 2 # seconds\n",
    "data_n = data.to_numpy()\n",
    "\n",
    "# dat_back = data.iloc[:duration*sr, :10]"
   ]
  },
  {
   "cell_type": "markdown",
   "id": "89f26913",
   "metadata": {},
   "source": [
    "```{.error}\n",
    "Error in py_call_impl(callable, dots$args, dots$keywords): NameError: name 'data' is not defined\n",
    "\n",
    "Detailed traceback:\n",
    "  File \"<string>\", line 1, in <module>\n",
    "```"
   ]
  },
  {
   "cell_type": "code",
   "execution_count": null,
   "id": "38f78784",
   "metadata": {},
   "outputs": [],
   "source": [
    "dat_back = data_n[:duration*sr, :10]"
   ]
  },
  {
   "cell_type": "markdown",
   "id": "3d0bed6d",
   "metadata": {},
   "source": [
    "```{.error}\n",
    "Error in py_call_impl(callable, dots$args, dots$keywords): NameError: name 'data_n' is not defined\n",
    "\n",
    "Detailed traceback:\n",
    "  File \"<string>\", line 1, in <module>\n",
    "```"
   ]
  },
  {
   "cell_type": "code",
   "execution_count": null,
   "id": "7ba75210",
   "metadata": {},
   "outputs": [],
   "source": [
    "dat_epil = data_n[data_n.shape[0] - duration*sr:, :10]"
   ]
  },
  {
   "cell_type": "markdown",
   "id": "acbc1f17",
   "metadata": {},
   "source": [
    "```{.error}\n",
    "Error in py_call_impl(callable, dots$args, dots$keywords): NameError: name 'data_n' is not defined\n",
    "\n",
    "Detailed traceback:\n",
    "  File \"<string>\", line 1, in <module>\n",
    "```"
   ]
  },
  {
   "cell_type": "code",
   "execution_count": null,
   "id": "c0e68363",
   "metadata": {},
   "outputs": [],
   "source": [
    "time = linspace(0, 1, duration*sr)\n",
    "\n",
    "print(dat_back.shape, dat_epil.shape, time.shape)"
   ]
  },
  {
   "cell_type": "markdown",
   "id": "e01938c6",
   "metadata": {},
   "source": [
    "```{.error}\n",
    "Error in py_call_impl(callable, dots$args, dots$keywords): NameError: name 'dat_back' is not defined\n",
    "\n",
    "Detailed traceback:\n",
    "  File \"<string>\", line 1, in <module>\n",
    "```"
   ]
  },
  {
   "cell_type": "markdown",
   "id": "a4f3479a",
   "metadata": {},
   "source": [
    "### Q2 and Q3\n",
    "### Filter and display data\n"
   ]
  },
  {
   "cell_type": "code",
   "execution_count": null,
   "id": "37e2d639",
   "metadata": {
    "lines_to_next_cell": 2
   },
   "outputs": [],
   "source": [
    "def data_filter(data, sr, low, high):\n",
    "    \"\"\"\n",
    "    Filtering of multiple time series. \n",
    "\n",
    "    data: nxm numpy array. Rows are time points, columns are recordings\n",
    "    sr: sampling rate, same time units as period    \n",
    "    \n",
    "    low:  Low cut-off frequency (high-pass filter)\n",
    "    high: High cut-off frequency (low-pass filter)\n",
    "\n",
    "    return: filtered data\n",
    "    \"\"\"\n",
    "\n",
    "    from scipy.signal import butter, sosfilt\n",
    "\n",
    "    order = 5\n",
    "\n",
    "    filter_settings = [low, high, order]\n",
    "\n",
    "    sos = butter(order, (low,high), btype='bandpass', fs=sr, output='sos')\n",
    "\n",
    "    data_filtered = zeros((data.shape[0], data.shape[1]))\n",
    "\n",
    "    for index, column in enumerate(data.transpose()): \n",
    "        forward = sosfilt(sos, column)\n",
    "        backwards = sosfilt(sos, forward[-1::-1])\n",
    "        data_filtered[:, index] = backwards[-1::-1]\n",
    "        \n",
    "    return data_filtered"
   ]
  },
  {
   "cell_type": "code",
   "execution_count": null,
   "id": "c285ea04",
   "metadata": {
    "lines_to_next_cell": 2
   },
   "outputs": [],
   "source": [
    "\n",
    "dat_back_filt = data_filter(dat_back, sr, 1, 20)\n",
    "Error in py_call_impl(callable, dots$args, dots$keywords): NameError: name 'dat_back' is not defined\n",
    "\n",
    "Detailed traceback:\n",
    "  File \"<string>\", line 1, in <module>\n",
    "(fig, ax) = plot_series(dat_back_filt, sr)\n",
    "Error in py_call_impl(callable, dots$args, dots$keywords): NameError: name 'dat_back_filt' is not defined\n",
    "\n",
    "Detailed traceback:\n",
    "  File \"<string>\", line 1, in <module>\n",
    "fig.suptitle('First two seconds: Background EEG', fontsize=16);\n",
    "Error in py_call_impl(callable, dots$args, dots$keywords): NameError: name 'fig' is not defined\n",
    "\n",
    "Detailed traceback:\n",
    "  File \"<string>\", line 1, in <module>\n",
    "show()\n",
    "Error in py_call_impl(callable, dots$args, dots$keywords): NameError: name 'show' is not defined\n",
    "\n",
    "Detailed traceback:\n",
    "  File \"<string>\", line 1, in <module>"
   ]
  },
  {
   "cell_type": "code",
   "execution_count": null,
   "id": "413baad5",
   "metadata": {},
   "outputs": [],
   "source": [
    "dat_epil_filt = data_filter(dat_epil, sr, 1, 20)\n",
    "Error in py_call_impl(callable, dots$args, dots$keywords): NameError: name 'dat_epil' is not defined\n",
    "\n",
    "Detailed traceback:\n",
    "  File \"<string>\", line 1, in <module>\n",
    "(fig, ax) = plot_series(dat_epil_filt, sr)\n",
    "Error in py_call_impl(callable, dots$args, dots$keywords): NameError: name 'dat_epil_filt' is not defined\n",
    "\n",
    "Detailed traceback:\n",
    "  File \"<string>\", line 1, in <module>\n",
    "fig.suptitle('Last 2 seconds: Seizure EEG', fontsize=16);\n",
    "Error in py_call_impl(callable, dots$args, dots$keywords): NameError: name 'fig' is not defined\n",
    "\n",
    "Detailed traceback:\n",
    "  File \"<string>\", line 1, in <module>\n",
    "show()\n",
    "Error in py_call_impl(callable, dots$args, dots$keywords): NameError: name 'show' is not defined\n",
    "\n",
    "Detailed traceback:\n",
    "  File \"<string>\", line 1, in <module>"
   ]
  },
  {
   "cell_type": "markdown",
   "id": "b42cbb4a",
   "metadata": {},
   "source": [
    "### Q4\n",
    "### Fourier Transform\n"
   ]
  },
  {
   "cell_type": "code",
   "execution_count": null,
   "id": "9b992657",
   "metadata": {},
   "outputs": [],
   "source": [
    "rows = dat_back.shape[0]"
   ]
  },
  {
   "cell_type": "markdown",
   "id": "bf4117cb",
   "metadata": {},
   "source": [
    "```{.error}\n",
    "Error in py_call_impl(callable, dots$args, dots$keywords): NameError: name 'dat_back' is not defined\n",
    "\n",
    "Detailed traceback:\n",
    "  File \"<string>\", line 1, in <module>\n",
    "```"
   ]
  },
  {
   "cell_type": "code",
   "execution_count": null,
   "id": "9b67dbec",
   "metadata": {},
   "outputs": [],
   "source": [
    "dat_back_fft = fft(dat_back_filt, axis=0)"
   ]
  },
  {
   "cell_type": "markdown",
   "id": "b3f76b28",
   "metadata": {},
   "source": [
    "```{.error}\n",
    "Error in py_call_impl(callable, dots$args, dots$keywords): NameError: name 'fft' is not defined\n",
    "\n",
    "Detailed traceback:\n",
    "  File \"<string>\", line 1, in <module>\n",
    "```"
   ]
  },
  {
   "cell_type": "code",
   "execution_count": null,
   "id": "96892dad",
   "metadata": {},
   "outputs": [],
   "source": [
    "powers_back2 = (2.0 / rows) * abs(dat_back_fft[:rows//2, :])"
   ]
  },
  {
   "cell_type": "markdown",
   "id": "9f5e7c31",
   "metadata": {},
   "source": [
    "```{.error}\n",
    "Error in py_call_impl(callable, dots$args, dots$keywords): NameError: name 'rows' is not defined\n",
    "\n",
    "Detailed traceback:\n",
    "  File \"<string>\", line 1, in <module>\n",
    "```"
   ]
  },
  {
   "cell_type": "code",
   "execution_count": null,
   "id": "94767728",
   "metadata": {},
   "outputs": [],
   "source": [
    "dat_epil_fft = fft(dat_epil_filt, axis=0)"
   ]
  },
  {
   "cell_type": "markdown",
   "id": "afd0283b",
   "metadata": {},
   "source": [
    "```{.error}\n",
    "Error in py_call_impl(callable, dots$args, dots$keywords): NameError: name 'fft' is not defined\n",
    "\n",
    "Detailed traceback:\n",
    "  File \"<string>\", line 1, in <module>\n",
    "```"
   ]
  },
  {
   "cell_type": "code",
   "execution_count": null,
   "id": "1e9d0546",
   "metadata": {},
   "outputs": [],
   "source": [
    "powers_epil2 = (2.0 / rows) * abs(dat_epil_fft[:rows//2, :])"
   ]
  },
  {
   "cell_type": "markdown",
   "id": "e68c15b6",
   "metadata": {},
   "source": [
    "```{.error}\n",
    "Error in py_call_impl(callable, dots$args, dots$keywords): NameError: name 'rows' is not defined\n",
    "\n",
    "Detailed traceback:\n",
    "  File \"<string>\", line 1, in <module>\n",
    "```\n",
    "\n",
    "<p style='text-align: justify;'>\n",
    "You can see the frequencies with largest power visually from a display of the Fourier spectrum. Here is an example code how to extract those values for each channel using Numpy functions.\n",
    "</p>\n"
   ]
  },
  {
   "cell_type": "code",
   "execution_count": null,
   "id": "ed43b5d5",
   "metadata": {},
   "outputs": [],
   "source": [
    "# Get the maxima of powers for each channel\n",
    "\n",
    "powermax_back2 = amax(powers_back2, axis=0)\n",
    "powermax_epil2 = amax(powers_epil2, axis=0)\n",
    "\n",
    "\n",
    "# Get the frequency index of that maximum\n",
    "\n",
    "powermax_back2_index = zeros(powers_back2.shape[1])\n",
    "\n",
    "for ind, pow in enumerate(list(powers_back2.transpose())):\n",
    "    pow_ind = list(pow).index(powermax_back2[ind])\n",
    "    powermax_back2_index[ind] = pow_ind\n",
    "    \n",
    "powermax_epil2_index = zeros(powers_epil2.shape[1])\n",
    "\n",
    "for ind, pow in enumerate(list(powers_epil2.transpose())):\n",
    "    pow_ind = list(pow).index(powermax_epil2[ind])\n",
    "    powermax_epil2_index[ind] = pow_ind\n",
    "    \n",
    "    \n",
    "    \n",
    "powermax_back2_freq = asarray(powermax_back2_index)*(sr / 2 / powers_back2.shape[0])\n",
    "powermax_epil2_freq = asarray(powermax_epil2_index)*(sr / 2 / powers_epil2.shape[0])\n",
    "\n",
    "print('Frequencies of max power in background (Hz): ', '\\n', around(powermax_back2_freq, decimals=1))\n",
    "print('')\n",
    "print('Frequencies of max power in seizure (Hz): ', '\\n', around(powermax_epil2_freq, decimals=1))    \n",
    "    \n",
    "#print(powermax_back2_freq, '\\n',  powermax_epil2_freq)\n",
    "\n",
    "fig, ax = subplots(nrows=2, figsize=(6,9))\n",
    "\n",
    "binwidth = 1\n",
    "\n",
    "(counts1, bins1, bars1) = ax[0].hist(powermax_back2_freq, bins=arange(0, 50 + binwidth, binwidth))\n",
    "ax[0].set_xlim(0, 30)\n",
    "ax[0].set_ylim(0, 10)\n",
    "ax[0].set(xlabel='Frequency (Hz), Background')\n",
    "\n",
    "(counts2, bins2, bars2) = ax[1].hist(powermax_epil2_freq, bins=arange(0, 50 + binwidth, binwidth))\n",
    "ax[1].set_xlim(0, 30)\n",
    "ax[1].set_ylim(0, 10)\n",
    "ax[1].set(xlabel='Frequency (Hz), Seizure');\n",
    "\n",
    "show()"
   ]
  },
  {
   "cell_type": "markdown",
   "id": "583b6e58",
   "metadata": {},
   "source": [
    "```{.error}\n",
    "Error in py_call_impl(callable, dots$args, dots$keywords): NameError: name 'powers_back2' is not defined\n",
    "\n",
    "Detailed traceback:\n",
    "  File \"<string>\", line 1, in <module>\n",
    "```\n",
    "\n",
    "```{.error}\n",
    "Error in py_call_impl(callable, dots$args, dots$keywords): NameError: name 'powers_epil2' is not defined\n",
    "\n",
    "Detailed traceback:\n",
    "  File \"<string>\", line 1, in <module>\n",
    "```\n",
    "\n",
    "```{.error}\n",
    "Error in py_call_impl(callable, dots$args, dots$keywords): NameError: name 'powers_back2' is not defined\n",
    "\n",
    "Detailed traceback:\n",
    "  File \"<string>\", line 1, in <module>\n",
    "```\n",
    "\n",
    "```{.error}\n",
    "Error in py_call_impl(callable, dots$args, dots$keywords): NameError: name 'powers_back2' is not defined\n",
    "\n",
    "Detailed traceback:\n",
    "  File \"<string>\", line 1, in <module>\n",
    "```\n",
    "\n",
    "```{.error}\n",
    "Error in py_call_impl(callable, dots$args, dots$keywords): NameError: name 'powers_epil2' is not defined\n",
    "\n",
    "Detailed traceback:\n",
    "  File \"<string>\", line 1, in <module>\n",
    "```\n",
    "\n",
    "```{.error}\n",
    "Error in py_call_impl(callable, dots$args, dots$keywords): NameError: name 'powers_epil2' is not defined\n",
    "\n",
    "Detailed traceback:\n",
    "  File \"<string>\", line 1, in <module>\n",
    "```\n",
    "\n",
    "```{.error}\n",
    "Error in py_call_impl(callable, dots$args, dots$keywords): NameError: name 'powermax_back2_index' is not defined\n",
    "\n",
    "Detailed traceback:\n",
    "  File \"<string>\", line 1, in <module>\n",
    "```\n",
    "\n",
    "```{.error}\n",
    "Error in py_call_impl(callable, dots$args, dots$keywords): NameError: name 'powermax_epil2_index' is not defined\n",
    "\n",
    "Detailed traceback:\n",
    "  File \"<string>\", line 1, in <module>\n",
    "```\n",
    "\n",
    "```{.error}\n",
    "Error in py_call_impl(callable, dots$args, dots$keywords): NameError: name 'powermax_back2_freq' is not defined\n",
    "\n",
    "Detailed traceback:\n",
    "  File \"<string>\", line 1, in <module>\n",
    "```\n",
    "\n",
    "```{.error}\n",
    "Error in py_call_impl(callable, dots$args, dots$keywords): NameError: name 'powermax_epil2_freq' is not defined\n",
    "\n",
    "Detailed traceback:\n",
    "  File \"<string>\", line 1, in <module>\n",
    "```\n",
    "\n",
    "```{.error}\n",
    "Error in py_call_impl(callable, dots$args, dots$keywords): NameError: name 'subplots' is not defined\n",
    "\n",
    "Detailed traceback:\n",
    "  File \"<string>\", line 1, in <module>\n",
    "```\n",
    "\n",
    "```{.error}\n",
    "Error in py_call_impl(callable, dots$args, dots$keywords): NameError: name 'ax' is not defined\n",
    "\n",
    "Detailed traceback:\n",
    "  File \"<string>\", line 1, in <module>\n",
    "```\n",
    "\n",
    "```{.error}\n",
    "Error in py_call_impl(callable, dots$args, dots$keywords): NameError: name 'ax' is not defined\n",
    "\n",
    "Detailed traceback:\n",
    "  File \"<string>\", line 1, in <module>\n",
    "```\n",
    "\n",
    "```{.error}\n",
    "Error in py_call_impl(callable, dots$args, dots$keywords): NameError: name 'ax' is not defined\n",
    "\n",
    "Detailed traceback:\n",
    "  File \"<string>\", line 1, in <module>\n",
    "```\n",
    "\n",
    "```{.error}\n",
    "Error in py_call_impl(callable, dots$args, dots$keywords): NameError: name 'ax' is not defined\n",
    "\n",
    "Detailed traceback:\n",
    "  File \"<string>\", line 1, in <module>\n",
    "```\n",
    "\n",
    "```{.error}\n",
    "Error in py_call_impl(callable, dots$args, dots$keywords): NameError: name 'ax' is not defined\n",
    "\n",
    "Detailed traceback:\n",
    "  File \"<string>\", line 1, in <module>\n",
    "```\n",
    "\n",
    "```{.error}\n",
    "Error in py_call_impl(callable, dots$args, dots$keywords): NameError: name 'ax' is not defined\n",
    "\n",
    "Detailed traceback:\n",
    "  File \"<string>\", line 1, in <module>\n",
    "```\n",
    "\n",
    "```{.error}\n",
    "Error in py_call_impl(callable, dots$args, dots$keywords): NameError: name 'ax' is not defined\n",
    "\n",
    "Detailed traceback:\n",
    "  File \"<string>\", line 1, in <module>\n",
    "```\n",
    "\n",
    "```{.error}\n",
    "Error in py_call_impl(callable, dots$args, dots$keywords): NameError: name 'ax' is not defined\n",
    "\n",
    "Detailed traceback:\n",
    "  File \"<string>\", line 1, in <module>\n",
    "```\n",
    "\n",
    "```{.error}\n",
    "Error in py_call_impl(callable, dots$args, dots$keywords): NameError: name 'show' is not defined\n",
    "\n",
    "Detailed traceback:\n",
    "  File \"<string>\", line 1, in <module>\n",
    "```\n",
    "\n",
    "### Fourier spectrum with max frequency\n"
   ]
  },
  {
   "cell_type": "code",
   "execution_count": null,
   "id": "d95dd641",
   "metadata": {},
   "outputs": [],
   "source": [
    "print('Maximum count: background: ', amax(counts1))\n",
    "\n",
    "print('Maximum count: seizure:    ', amax(counts2))\n",
    "\n",
    "print('Frequency with maximum count: background: ', '10-11 Hz')\n",
    "\n",
    "print('Frequency with maximum count: seizure:    ', ' 7- 8 Hz')"
   ]
  },
  {
   "cell_type": "markdown",
   "id": "4d135bcf",
   "metadata": {},
   "source": [
    "```{.error}\n",
    "Error in py_call_impl(callable, dots$args, dots$keywords): NameError: name 'counts1' is not defined\n",
    "\n",
    "Detailed traceback:\n",
    "  File \"<string>\", line 1, in <module>\n",
    "```\n",
    "\n",
    "```{.error}\n",
    "Error in py_call_impl(callable, dots$args, dots$keywords): NameError: name 'counts2' is not defined\n",
    "\n",
    "Detailed traceback:\n",
    "  File \"<string>\", line 1, in <module>\n",
    "```\n",
    "\n",
    "```{.output}\n",
    "Frequency with maximum count: background:  10-11 Hz\n",
    "Frequency with maximum count: seizure:      7- 8 Hz\n",
    "```\n",
    "\n"
   ]
  },
  {
   "cell_type": "code",
   "execution_count": null,
   "id": "f157c359",
   "metadata": {
    "lines_to_next_cell": 0
   },
   "outputs": [],
   "source": [
    "freqs = (sr/2)*linspace(0, 1, int(rows/2))\n",
    "Error in py_call_impl(callable, dots$args, dots$keywords): NameError: name 'rows' is not defined\n",
    "\n",
    "Detailed traceback:\n",
    "  File \"<string>\", line 1, in <module>\n",
    "fig, axes = subplots(figsize=(6, 14), ncols=1, nrows=4, sharex=False)\n",
    "    \n",
    "Error in py_call_impl(callable, dots$args, dots$keywords): NameError: name 'subplots' is not defined\n",
    "\n",
    "Detailed traceback:\n",
    "  File \"<string>\", line 1, in <module>\n",
    "axes[0].plot(freqs, powers_back2[:, 3])\n",
    "Error in py_call_impl(callable, dots$args, dots$keywords): NameError: name 'axes' is not defined\n",
    "\n",
    "Detailed traceback:\n",
    "  File \"<string>\", line 1, in <module>\n",
    "axes[0].set_xlim(0, 20)\n",
    "Error in py_call_impl(callable, dots$args, dots$keywords): NameError: name 'axes' is not defined\n",
    "\n",
    "Detailed traceback:\n",
    "  File \"<string>\", line 1, in <module>\n",
    "axes[0].set_ylim(0, 12)\n",
    "Error in py_call_impl(callable, dots$args, dots$keywords): NameError: name 'axes' is not defined\n",
    "\n",
    "Detailed traceback:\n",
    "  File \"<string>\", line 1, in <module>\n",
    "axes[0].set(ylabel=f'Power channel 3')\n",
    "Error in py_call_impl(callable, dots$args, dots$keywords): NameError: name 'axes' is not defined\n",
    "\n",
    "Detailed traceback:\n",
    "  File \"<string>\", line 1, in <module>\n",
    "axes[0].set(xlabel='Frequency (Hz)');\n",
    "Error in py_call_impl(callable, dots$args, dots$keywords): NameError: name 'axes' is not defined\n",
    "\n",
    "Detailed traceback:\n",
    "  File \"<string>\", line 1, in <module>\n",
    "axes[1].plot(time, dat_back_filt[:, 3], c='r')\n",
    "Error in py_call_impl(callable, dots$args, dots$keywords): NameError: name 'axes' is not defined\n",
    "\n",
    "Detailed traceback:\n",
    "  File \"<string>\", line 1, in <module>\n",
    "axes[1].set(xlabel='Time (s)');\n",
    "Error in py_call_impl(callable, dots$args, dots$keywords): NameError: name 'axes' is not defined\n",
    "\n",
    "Detailed traceback:\n",
    "  File \"<string>\", line 1, in <module>\n",
    "axes[1].set_ylim(-50, 60)\n",
    "Error in py_call_impl(callable, dots$args, dots$keywords): NameError: name 'axes' is not defined\n",
    "\n",
    "Detailed traceback:\n",
    "  File \"<string>\", line 1, in <module>\n",
    "axes[2].plot(freqs, powers_epil2[:, 3])\n",
    "Error in py_call_impl(callable, dots$args, dots$keywords): NameError: name 'axes' is not defined\n",
    "\n",
    "Detailed traceback:\n",
    "  File \"<string>\", line 1, in <module>\n",
    "axes[2].set_xlim(0, 20)\n",
    "Error in py_call_impl(callable, dots$args, dots$keywords): NameError: name 'axes' is not defined\n",
    "\n",
    "Detailed traceback:\n",
    "  File \"<string>\", line 1, in <module>\n",
    "axes[2].set_ylim(0, 12)\n",
    "Error in py_call_impl(callable, dots$args, dots$keywords): NameError: name 'axes' is not defined\n",
    "\n",
    "Detailed traceback:\n",
    "  File \"<string>\", line 1, in <module>\n",
    "axes[2].set(ylabel='Power channel index 1')\n",
    "Error in py_call_impl(callable, dots$args, dots$keywords): NameError: name 'axes' is not defined\n",
    "\n",
    "Detailed traceback:\n",
    "  File \"<string>\", line 1, in <module>\n",
    "axes[2].set(xlabel='Frequency (Hz)');\n",
    "Error in py_call_impl(callable, dots$args, dots$keywords): NameError: name 'axes' is not defined\n",
    "\n",
    "Detailed traceback:\n",
    "  File \"<string>\", line 1, in <module>\n",
    "axes[3].plot(time, dat_epil_filt[:, 3], c='r')\n",
    "Error in py_call_impl(callable, dots$args, dots$keywords): NameError: name 'axes' is not defined\n",
    "\n",
    "Detailed traceback:\n",
    "  File \"<string>\", line 1, in <module>\n",
    "axes[3].set(xlabel='Time (s)');\n",
    "Error in py_call_impl(callable, dots$args, dots$keywords): NameError: name 'axes' is not defined\n",
    "\n",
    "Detailed traceback:\n",
    "  File \"<string>\", line 1, in <module>\n",
    "axes[3].set_ylim(-50, 60)\n",
    "Error in py_call_impl(callable, dots$args, dots$keywords): NameError: name 'axes' is not defined\n",
    "\n",
    "Detailed traceback:\n",
    "  File \"<string>\", line 1, in <module>\n",
    "show()\n",
    "Error in py_call_impl(callable, dots$args, dots$keywords): NameError: name 'show' is not defined\n",
    "\n",
    "Detailed traceback:\n",
    "  File \"<string>\", line 1, in <module>"
   ]
  },
  {
   "cell_type": "markdown",
   "id": "c133ff9e",
   "metadata": {},
   "source": [
    "### Q5\n",
    "### Correlation Matrix\n"
   ]
  },
  {
   "cell_type": "code",
   "execution_count": null,
   "id": "0b68ab2d",
   "metadata": {},
   "outputs": [],
   "source": [
    "corr_matrix_back2 = corrcoef(dat_back_filt, rowvar=False)\n",
    "Error in py_call_impl(callable, dots$args, dots$keywords): NameError: name 'dat_back_filt' is not defined\n",
    "\n",
    "Detailed traceback:\n",
    "  File \"<string>\", line 1, in <module>\n",
    "fill_diagonal(corr_matrix_back2, 0)\n",
    "Error in py_call_impl(callable, dots$args, dots$keywords): NameError: name 'corr_matrix_back2' is not defined\n",
    "\n",
    "Detailed traceback:\n",
    "  File \"<string>\", line 1, in <module>\n",
    "corr_matrix_epil2 = corrcoef(dat_epil_filt, rowvar=False)\n",
    "Error in py_call_impl(callable, dots$args, dots$keywords): NameError: name 'dat_epil_filt' is not defined\n",
    "\n",
    "Detailed traceback:\n",
    "  File \"<string>\", line 1, in <module>\n",
    "fill_diagonal(corr_matrix_epil2, 0)\n",
    "Error in py_call_impl(callable, dots$args, dots$keywords): NameError: name 'corr_matrix_epil2' is not defined\n",
    "\n",
    "Detailed traceback:\n",
    "  File \"<string>\", line 1, in <module>\n",
    "fig, ax = subplots(figsize = (8,8), ncols=2)\n",
    "Error in py_call_impl(callable, dots$args, dots$keywords): NameError: name 'subplots' is not defined\n",
    "\n",
    "Detailed traceback:\n",
    "  File \"<string>\", line 1, in <module>\n",
    "im1 = ax[0].imshow(corr_matrix_back2, cmap='coolwarm');\n",
    "Error in py_call_impl(callable, dots$args, dots$keywords): NameError: name 'ax' is not defined\n",
    "\n",
    "Detailed traceback:\n",
    "  File \"<string>\", line 1, in <module>\n",
    "fig.colorbar(im1, ax=ax[0], orientation='horizontal', shrink=0.8)\n",
    "Error in py_call_impl(callable, dots$args, dots$keywords): NameError: name 'fig' is not defined\n",
    "\n",
    "Detailed traceback:\n",
    "  File \"<string>\", line 1, in <module>\n",
    "im2 = ax[1].imshow(corr_matrix_epil2, cmap='coolwarm');\n",
    "Error in py_call_impl(callable, dots$args, dots$keywords): NameError: name 'ax' is not defined\n",
    "\n",
    "Detailed traceback:\n",
    "  File \"<string>\", line 1, in <module>\n",
    "fig.colorbar(im2, ax=ax[1], orientation='horizontal', shrink=0.8);\n",
    "Error in py_call_impl(callable, dots$args, dots$keywords): NameError: name 'fig' is not defined\n",
    "\n",
    "Detailed traceback:\n",
    "  File \"<string>\", line 1, in <module>\n",
    "show()\n",
    "Error in py_call_impl(callable, dots$args, dots$keywords): NameError: name 'show' is not defined\n",
    "\n",
    "Detailed traceback:\n",
    "  File \"<string>\", line 1, in <module>"
   ]
  },
  {
   "cell_type": "markdown",
   "id": "6da8905b",
   "metadata": {},
   "source": [
    "### Hist of Correlation Coefficients\n"
   ]
  },
  {
   "cell_type": "code",
   "execution_count": null,
   "id": "65f331ac",
   "metadata": {},
   "outputs": [],
   "source": [
    "channels = dat_back.shape[1]\n",
    "Error in py_call_impl(callable, dots$args, dots$keywords): NameError: name 'dat_back' is not defined\n",
    "\n",
    "Detailed traceback:\n",
    "  File \"<string>\", line 1, in <module>\n",
    "corr_coeffs_back2 = corr_matrix_back2[triu_indices(channels, k=1)]\n",
    "Error in py_call_impl(callable, dots$args, dots$keywords): NameError: name 'corr_matrix_back2' is not defined\n",
    "\n",
    "Detailed traceback:\n",
    "  File \"<string>\", line 1, in <module>\n",
    "corr_coeffs_epil2 = corr_matrix_epil2[triu_indices(channels, k=1)]\n",
    "Error in py_call_impl(callable, dots$args, dots$keywords): NameError: name 'corr_matrix_epil2' is not defined\n",
    "\n",
    "Detailed traceback:\n",
    "  File \"<string>\", line 1, in <module>\n",
    "fig, ax = subplots(nrows=2)\n",
    "Error in py_call_impl(callable, dots$args, dots$keywords): NameError: name 'subplots' is not defined\n",
    "\n",
    "Detailed traceback:\n",
    "  File \"<string>\", line 1, in <module>\n",
    "ax[0].hist(corr_coeffs_back2, bins = 12);\n",
    "Error in py_call_impl(callable, dots$args, dots$keywords): NameError: name 'ax' is not defined\n",
    "\n",
    "Detailed traceback:\n",
    "  File \"<string>\", line 1, in <module>\n",
    "ax[0].set_xlim(-1, 1)\n",
    "Error in py_call_impl(callable, dots$args, dots$keywords): NameError: name 'ax' is not defined\n",
    "\n",
    "Detailed traceback:\n",
    "  File \"<string>\", line 1, in <module>\n",
    "ax[1].hist(corr_coeffs_epil2, bins = 12);\n",
    "Error in py_call_impl(callable, dots$args, dots$keywords): NameError: name 'ax' is not defined\n",
    "\n",
    "Detailed traceback:\n",
    "  File \"<string>\", line 1, in <module>\n",
    "ax[1].set_xlim(-1, 1);\n",
    "Error in py_call_impl(callable, dots$args, dots$keywords): NameError: name 'ax' is not defined\n",
    "\n",
    "Detailed traceback:\n",
    "  File \"<string>\", line 1, in <module>\n",
    "show()\n",
    "Error in py_call_impl(callable, dots$args, dots$keywords): NameError: name 'show' is not defined\n",
    "\n",
    "Detailed traceback:\n",
    "  File \"<string>\", line 1, in <module>"
   ]
  },
  {
   "cell_type": "markdown",
   "id": "ebc01f8c",
   "metadata": {},
   "source": [
    "### Channel Correlations\n"
   ]
  },
  {
   "cell_type": "code",
   "execution_count": null,
   "id": "9dd89d80",
   "metadata": {
    "lines_to_next_cell": 2
   },
   "outputs": [],
   "source": [
    "corr_coeffs_back2_mean = mean(abs(corr_matrix_back2), axis=0)\n",
    "Error in py_call_impl(callable, dots$args, dots$keywords): NameError: name 'corr_matrix_back2' is not defined\n",
    "\n",
    "Detailed traceback:\n",
    "  File \"<string>\", line 1, in <module>\n",
    "corr_coeffs_epil2_mean = mean(abs(corr_matrix_epil2), axis=0)\n",
    "Error in py_call_impl(callable, dots$args, dots$keywords): NameError: name 'corr_matrix_epil2' is not defined\n",
    "\n",
    "Detailed traceback:\n",
    "  File \"<string>\", line 1, in <module>\n",
    "fig, ax = subplots(nrows=2, figsize=(5,9))\n",
    "Error in py_call_impl(callable, dots$args, dots$keywords): NameError: name 'subplots' is not defined\n",
    "\n",
    "Detailed traceback:\n",
    "  File \"<string>\", line 1, in <module>\n",
    "bins = arange(corr_coeffs_back2_mean.shape[0])\n",
    "Error in py_call_impl(callable, dots$args, dots$keywords): NameError: name 'corr_coeffs_back2_mean' is not defined\n",
    "\n",
    "Detailed traceback:\n",
    "  File \"<string>\", line 1, in <module>\n",
    "ax[0].bar(bins, corr_coeffs_back2_mean);\n",
    "Error in py_call_impl(callable, dots$args, dots$keywords): NameError: name 'ax' is not defined\n",
    "\n",
    "Detailed traceback:\n",
    "  File \"<string>\", line 1, in <module>\n",
    "ax[0].set_xlabel('Background')\n",
    "Error in py_call_impl(callable, dots$args, dots$keywords): NameError: name 'ax' is not defined\n",
    "\n",
    "Detailed traceback:\n",
    "  File \"<string>\", line 1, in <module>\n",
    "ax[0].set_ylim(0, 0.4)\n",
    "Error in py_call_impl(callable, dots$args, dots$keywords): NameError: name 'ax' is not defined\n",
    "\n",
    "Detailed traceback:\n",
    "  File \"<string>\", line 1, in <module>\n",
    "ax[1].bar(bins, corr_coeffs_epil2_mean);\n",
    "Error in py_call_impl(callable, dots$args, dots$keywords): NameError: name 'ax' is not defined\n",
    "\n",
    "Detailed traceback:\n",
    "  File \"<string>\", line 1, in <module>\n",
    "ax[1].set_xlabel('Seizure')\n",
    "Error in py_call_impl(callable, dots$args, dots$keywords): NameError: name 'ax' is not defined\n",
    "\n",
    "Detailed traceback:\n",
    "  File \"<string>\", line 1, in <module>\n",
    "ax[1].set_ylim(0, 0.4);\n",
    "Error in py_call_impl(callable, dots$args, dots$keywords): NameError: name 'ax' is not defined\n",
    "\n",
    "Detailed traceback:\n",
    "  File \"<string>\", line 1, in <module>\n",
    "show()\n",
    "Error in py_call_impl(callable, dots$args, dots$keywords): NameError: name 'show' is not defined\n",
    "\n",
    "Detailed traceback:\n",
    "  File \"<string>\", line 1, in <module>"
   ]
  },
  {
   "cell_type": "code",
   "execution_count": null,
   "id": "d387802a",
   "metadata": {},
   "outputs": [],
   "source": [
    "corr_back2_mean = mean(corr_coeffs_back2_mean)\n",
    "corr_epil2_mean = mean(corr_coeffs_epil2_mean)\n",
    "\n",
    "print('Average correlation background: ', around(corr_back2_mean, decimals=2))\n",
    "print('Average correlation seizure:    ', around(corr_epil2_mean, decimals=2))"
   ]
  },
  {
   "cell_type": "markdown",
   "id": "cc815689",
   "metadata": {},
   "source": [
    "```{.error}\n",
    "Error in py_call_impl(callable, dots$args, dots$keywords): NameError: name 'corr_coeffs_back2_mean' is not defined\n",
    "\n",
    "Detailed traceback:\n",
    "  File \"<string>\", line 1, in <module>\n",
    "```\n",
    "\n",
    "```{.error}\n",
    "Error in py_call_impl(callable, dots$args, dots$keywords): NameError: name 'corr_coeffs_epil2_mean' is not defined\n",
    "\n",
    "Detailed traceback:\n",
    "  File \"<string>\", line 1, in <module>\n",
    "```\n",
    "\n",
    "```{.error}\n",
    "Error in py_call_impl(callable, dots$args, dots$keywords): NameError: name 'corr_back2_mean' is not defined\n",
    "\n",
    "Detailed traceback:\n",
    "  File \"<string>\", line 1, in <module>\n",
    "```\n",
    "\n",
    "```{.error}\n",
    "Error in py_call_impl(callable, dots$args, dots$keywords): NameError: name 'corr_epil2_mean' is not defined\n",
    "\n",
    "Detailed traceback:\n",
    "  File \"<string>\", line 1, in <module>\n",
    "```\n",
    "\n",
    "### Channels with strongest correlations during the seizure"
   ]
  },
  {
   "cell_type": "code",
   "execution_count": null,
   "id": "08ec7179",
   "metadata": {},
   "outputs": [],
   "source": [
    "threshold = 0.2\n",
    "\n",
    "corr_coeffs_epil2_large = corr_coeffs_epil2_mean > threshold"
   ]
  },
  {
   "cell_type": "markdown",
   "id": "b8f5df6c",
   "metadata": {},
   "source": [
    "```{.error}\n",
    "Error in py_call_impl(callable, dots$args, dots$keywords): NameError: name 'corr_coeffs_epil2_mean' is not defined\n",
    "\n",
    "Detailed traceback:\n",
    "  File \"<string>\", line 1, in <module>\n",
    "```"
   ]
  },
  {
   "cell_type": "code",
   "execution_count": null,
   "id": "f93f8d20",
   "metadata": {},
   "outputs": [],
   "source": [
    "corr_coeffs_epil2_large"
   ]
  },
  {
   "cell_type": "markdown",
   "id": "dc78c5bd",
   "metadata": {},
   "source": [
    "```{.error}\n",
    "Error in py_call_impl(callable, dots$args, dots$keywords): NameError: name 'corr_coeffs_epil2_large' is not defined\n",
    "\n",
    "Detailed traceback:\n",
    "  File \"<string>\", line 1, in <module>\n",
    "```\n",
    "\n",
    "A horizontal line can be used to indicate the threshold:\n"
   ]
  },
  {
   "cell_type": "code",
   "execution_count": null,
   "id": "119c7a2d",
   "metadata": {},
   "outputs": [],
   "source": [
    "fig, ax = subplots()\n",
    "Error in py_call_impl(callable, dots$args, dots$keywords): NameError: name 'subplots' is not defined\n",
    "\n",
    "Detailed traceback:\n",
    "  File \"<string>\", line 1, in <module>\n",
    "bins = arange(corr_coeffs_back2_mean.shape[0])\n",
    "Error in py_call_impl(callable, dots$args, dots$keywords): NameError: name 'corr_coeffs_back2_mean' is not defined\n",
    "\n",
    "Detailed traceback:\n",
    "  File \"<string>\", line 1, in <module>\n",
    "ax.bar(bins, corr_coeffs_epil2_mean);\n",
    "Error in py_call_impl(callable, dots$args, dots$keywords): NameError: name 'ax' is not defined\n",
    "\n",
    "Detailed traceback:\n",
    "  File \"<string>\", line 1, in <module>\n",
    "ax.set_xlabel('Seizure')\n",
    "Error in py_call_impl(callable, dots$args, dots$keywords): NameError: name 'ax' is not defined\n",
    "\n",
    "Detailed traceback:\n",
    "  File \"<string>\", line 1, in <module>\n",
    "ax.set_ylim(0, 0.4);\n",
    "Error in py_call_impl(callable, dots$args, dots$keywords): NameError: name 'ax' is not defined\n",
    "\n",
    "Detailed traceback:\n",
    "  File \"<string>\", line 1, in <module>\n",
    "ax.axhline(y=threshold, c='r');\n",
    "Error in py_call_impl(callable, dots$args, dots$keywords): NameError: name 'ax' is not defined\n",
    "\n",
    "Detailed traceback:\n",
    "  File \"<string>\", line 1, in <module>\n",
    "show()\n",
    "Error in py_call_impl(callable, dots$args, dots$keywords): NameError: name 'show' is not defined\n",
    "\n",
    "Detailed traceback:\n",
    "  File \"<string>\", line 1, in <module>"
   ]
  },
  {
   "cell_type": "markdown",
   "id": "7f2397be",
   "metadata": {},
   "source": [
    "To find the indices of the channels that are larger than the threshold (i.e. those displaying True), we can use Numpy function `nonzero`: \n"
   ]
  },
  {
   "cell_type": "code",
   "execution_count": null,
   "id": "5033ceb8",
   "metadata": {},
   "outputs": [],
   "source": [
    "from numpy import nonzero\n",
    "\n",
    "nonzero(corr_coeffs_epil2_large)"
   ]
  },
  {
   "cell_type": "markdown",
   "id": "12f22116",
   "metadata": {},
   "source": [
    "```{.error}\n",
    "Error in py_call_impl(callable, dots$args, dots$keywords): NameError: name 'corr_coeffs_epil2_large' is not defined\n",
    "\n",
    "Detailed traceback:\n",
    "  File \"<string>\", line 1, in <module>\n",
    "```\n",
    "\n"
   ]
  },
  {
   "cell_type": "markdown",
   "id": "9d378d27",
   "metadata": {},
   "source": [
    "- `plot_series` is a Python function created to display multiple timeseries plots.\n",
    "- Data filtering is applied to take out specific and relevant components.  \n",
    "- The Fourier spectrum decomposes the time series into a sum of sine waves. \n",
    "- Cross-correlation matrix is used for multivariate analysis.\n"
   ]
  }
 ],
 "metadata": {
  "jupytext": {
   "cell_metadata_filter": "-all",
   "main_language": "python",
   "notebook_metadata_filter": "-all"
  }
 },
 "nbformat": 4,
 "nbformat_minor": 5
}
